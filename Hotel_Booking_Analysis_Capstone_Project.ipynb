{
  "nbformat": 4,
  "nbformat_minor": 0,
  "metadata": {
    "kernelspec": {
      "display_name": "Python 3",
      "language": "python",
      "name": "python3"
    },
    "language_info": {
      "codemirror_mode": {
        "name": "ipython",
        "version": 3
      },
      "file_extension": ".py",
      "mimetype": "text/x-python",
      "name": "python",
      "nbconvert_exporter": "python",
      "pygments_lexer": "ipython3",
      "version": "3.6.6"
    },
    "colab": {
      "name": "Hotel_Booking_Analysis_Capstone_Project.ipynb",
      "provenance": [],
      "collapsed_sections": [],
      "include_colab_link": true
    }
  },
  "cells": [
    {
      "cell_type": "markdown",
      "metadata": {
        "id": "view-in-github",
        "colab_type": "text"
      },
      "source": [
        "<a href=\"https://colab.research.google.com/github/123-VARSHA/Exploratory-Data-Analysis-Capstone/blob/main/Hotel_Booking_Analysis_Capstone_Project.ipynb\" target=\"_parent\"><img src=\"https://colab.research.google.com/assets/colab-badge.svg\" alt=\"Open In Colab\"/></a>"
      ]
    },
    {
      "cell_type": "markdown",
      "metadata": {
        "id": "Y06xIdG26kRF"
      },
      "source": [
        "## <b> Have you ever wondered when the best time of year to book a hotel room is? Or the optimal length of stay in order to get the best daily rate? What if you wanted to predict whether or not a hotel was likely to receive a disproportionately high number of special requests? This hotel booking dataset can help you explore those questions!\n",
        "\n",
        "## <b>This data set contains booking information for a city hotel and a resort hotel, and includes information such as when the booking was made, length of stay, the number of adults, children, and/or babies, and the number of available parking spaces, among other things. All personally identifying information has been removed from the data. </b>\n",
        "\n",
        "## <b> Explore and analyze the data to discover important factors that govern the bookings. </b>"
      ]
    },
    {
      "cell_type": "code",
      "metadata": {
        "id": "dByMsuzT8Tnw"
      },
      "source": [
        "# import libraries\n",
        "import pandas as pd\n",
        "import numpy as np\n",
        "import matplotlib.pyplot as plt\n",
        "import seaborn as sns\n",
        "import plotly.express as px"
      ],
      "execution_count": null,
      "outputs": []
    },
    {
      "cell_type": "code",
      "source": [
        "# access google drive\n",
        "from google.colab import drive\n",
        "drive.mount('/content/drive')"
      ],
      "metadata": {
        "id": "hq4hTzhaulX8",
        "outputId": "9e4e2cdb-86fd-417f-8460-9e00fb143045",
        "colab": {
          "base_uri": "https://localhost:8080/"
        }
      },
      "execution_count": null,
      "outputs": [
        {
          "output_type": "stream",
          "name": "stdout",
          "text": [
            "Mounted at /content/drive\n"
          ]
        }
      ]
    },
    {
      "cell_type": "code",
      "source": [
        "# read data from google drive\n",
        "df = pd.read_csv('/content/drive/My Drive/ALMABETTER/Hotel Bookings.csv')"
      ],
      "metadata": {
        "id": "BRTk-ePPu468"
      },
      "execution_count": null,
      "outputs": []
    },
    {
      "cell_type": "markdown",
      "source": [
        "## Data Exploration"
      ],
      "metadata": {
        "id": "a_f-PTLqZLQd"
      }
    },
    {
      "cell_type": "code",
      "source": [
        "df.head()"
      ],
      "metadata": {
        "id": "ghIkawn-vfkV",
        "outputId": "6723d9cd-0975-4267-adfa-52c5476fad6e",
        "colab": {
          "base_uri": "https://localhost:8080/",
          "height": 386
        }
      },
      "execution_count": null,
      "outputs": [
        {
          "output_type": "execute_result",
          "data": {
            "text/plain": [
              "          hotel  is_canceled  lead_time  arrival_date_year arrival_date_month  \\\n",
              "0  Resort Hotel            0        342               2015               July   \n",
              "1  Resort Hotel            0        737               2015               July   \n",
              "2  Resort Hotel            0          7               2015               July   \n",
              "3  Resort Hotel            0         13               2015               July   \n",
              "4  Resort Hotel            0         14               2015               July   \n",
              "\n",
              "   arrival_date_week_number  arrival_date_day_of_month  \\\n",
              "0                        27                          1   \n",
              "1                        27                          1   \n",
              "2                        27                          1   \n",
              "3                        27                          1   \n",
              "4                        27                          1   \n",
              "\n",
              "   stays_in_weekend_nights  stays_in_week_nights  adults  ...  deposit_type  \\\n",
              "0                        0                     0       2  ...    No Deposit   \n",
              "1                        0                     0       2  ...    No Deposit   \n",
              "2                        0                     1       1  ...    No Deposit   \n",
              "3                        0                     1       1  ...    No Deposit   \n",
              "4                        0                     2       2  ...    No Deposit   \n",
              "\n",
              "   agent company days_in_waiting_list customer_type   adr  \\\n",
              "0    NaN     NaN                    0     Transient   0.0   \n",
              "1    NaN     NaN                    0     Transient   0.0   \n",
              "2    NaN     NaN                    0     Transient  75.0   \n",
              "3  304.0     NaN                    0     Transient  75.0   \n",
              "4  240.0     NaN                    0     Transient  98.0   \n",
              "\n",
              "   required_car_parking_spaces  total_of_special_requests  reservation_status  \\\n",
              "0                            0                          0           Check-Out   \n",
              "1                            0                          0           Check-Out   \n",
              "2                            0                          0           Check-Out   \n",
              "3                            0                          0           Check-Out   \n",
              "4                            0                          1           Check-Out   \n",
              "\n",
              "  reservation_status_date  \n",
              "0              2015-07-01  \n",
              "1              2015-07-01  \n",
              "2              2015-07-02  \n",
              "3              2015-07-02  \n",
              "4              2015-07-03  \n",
              "\n",
              "[5 rows x 32 columns]"
            ],
            "text/html": [
              "\n",
              "  <div id=\"df-0e6a3d7b-97c7-4215-8c84-baf8a8b1032c\">\n",
              "    <div class=\"colab-df-container\">\n",
              "      <div>\n",
              "<style scoped>\n",
              "    .dataframe tbody tr th:only-of-type {\n",
              "        vertical-align: middle;\n",
              "    }\n",
              "\n",
              "    .dataframe tbody tr th {\n",
              "        vertical-align: top;\n",
              "    }\n",
              "\n",
              "    .dataframe thead th {\n",
              "        text-align: right;\n",
              "    }\n",
              "</style>\n",
              "<table border=\"1\" class=\"dataframe\">\n",
              "  <thead>\n",
              "    <tr style=\"text-align: right;\">\n",
              "      <th></th>\n",
              "      <th>hotel</th>\n",
              "      <th>is_canceled</th>\n",
              "      <th>lead_time</th>\n",
              "      <th>arrival_date_year</th>\n",
              "      <th>arrival_date_month</th>\n",
              "      <th>arrival_date_week_number</th>\n",
              "      <th>arrival_date_day_of_month</th>\n",
              "      <th>stays_in_weekend_nights</th>\n",
              "      <th>stays_in_week_nights</th>\n",
              "      <th>adults</th>\n",
              "      <th>...</th>\n",
              "      <th>deposit_type</th>\n",
              "      <th>agent</th>\n",
              "      <th>company</th>\n",
              "      <th>days_in_waiting_list</th>\n",
              "      <th>customer_type</th>\n",
              "      <th>adr</th>\n",
              "      <th>required_car_parking_spaces</th>\n",
              "      <th>total_of_special_requests</th>\n",
              "      <th>reservation_status</th>\n",
              "      <th>reservation_status_date</th>\n",
              "    </tr>\n",
              "  </thead>\n",
              "  <tbody>\n",
              "    <tr>\n",
              "      <th>0</th>\n",
              "      <td>Resort Hotel</td>\n",
              "      <td>0</td>\n",
              "      <td>342</td>\n",
              "      <td>2015</td>\n",
              "      <td>July</td>\n",
              "      <td>27</td>\n",
              "      <td>1</td>\n",
              "      <td>0</td>\n",
              "      <td>0</td>\n",
              "      <td>2</td>\n",
              "      <td>...</td>\n",
              "      <td>No Deposit</td>\n",
              "      <td>NaN</td>\n",
              "      <td>NaN</td>\n",
              "      <td>0</td>\n",
              "      <td>Transient</td>\n",
              "      <td>0.0</td>\n",
              "      <td>0</td>\n",
              "      <td>0</td>\n",
              "      <td>Check-Out</td>\n",
              "      <td>2015-07-01</td>\n",
              "    </tr>\n",
              "    <tr>\n",
              "      <th>1</th>\n",
              "      <td>Resort Hotel</td>\n",
              "      <td>0</td>\n",
              "      <td>737</td>\n",
              "      <td>2015</td>\n",
              "      <td>July</td>\n",
              "      <td>27</td>\n",
              "      <td>1</td>\n",
              "      <td>0</td>\n",
              "      <td>0</td>\n",
              "      <td>2</td>\n",
              "      <td>...</td>\n",
              "      <td>No Deposit</td>\n",
              "      <td>NaN</td>\n",
              "      <td>NaN</td>\n",
              "      <td>0</td>\n",
              "      <td>Transient</td>\n",
              "      <td>0.0</td>\n",
              "      <td>0</td>\n",
              "      <td>0</td>\n",
              "      <td>Check-Out</td>\n",
              "      <td>2015-07-01</td>\n",
              "    </tr>\n",
              "    <tr>\n",
              "      <th>2</th>\n",
              "      <td>Resort Hotel</td>\n",
              "      <td>0</td>\n",
              "      <td>7</td>\n",
              "      <td>2015</td>\n",
              "      <td>July</td>\n",
              "      <td>27</td>\n",
              "      <td>1</td>\n",
              "      <td>0</td>\n",
              "      <td>1</td>\n",
              "      <td>1</td>\n",
              "      <td>...</td>\n",
              "      <td>No Deposit</td>\n",
              "      <td>NaN</td>\n",
              "      <td>NaN</td>\n",
              "      <td>0</td>\n",
              "      <td>Transient</td>\n",
              "      <td>75.0</td>\n",
              "      <td>0</td>\n",
              "      <td>0</td>\n",
              "      <td>Check-Out</td>\n",
              "      <td>2015-07-02</td>\n",
              "    </tr>\n",
              "    <tr>\n",
              "      <th>3</th>\n",
              "      <td>Resort Hotel</td>\n",
              "      <td>0</td>\n",
              "      <td>13</td>\n",
              "      <td>2015</td>\n",
              "      <td>July</td>\n",
              "      <td>27</td>\n",
              "      <td>1</td>\n",
              "      <td>0</td>\n",
              "      <td>1</td>\n",
              "      <td>1</td>\n",
              "      <td>...</td>\n",
              "      <td>No Deposit</td>\n",
              "      <td>304.0</td>\n",
              "      <td>NaN</td>\n",
              "      <td>0</td>\n",
              "      <td>Transient</td>\n",
              "      <td>75.0</td>\n",
              "      <td>0</td>\n",
              "      <td>0</td>\n",
              "      <td>Check-Out</td>\n",
              "      <td>2015-07-02</td>\n",
              "    </tr>\n",
              "    <tr>\n",
              "      <th>4</th>\n",
              "      <td>Resort Hotel</td>\n",
              "      <td>0</td>\n",
              "      <td>14</td>\n",
              "      <td>2015</td>\n",
              "      <td>July</td>\n",
              "      <td>27</td>\n",
              "      <td>1</td>\n",
              "      <td>0</td>\n",
              "      <td>2</td>\n",
              "      <td>2</td>\n",
              "      <td>...</td>\n",
              "      <td>No Deposit</td>\n",
              "      <td>240.0</td>\n",
              "      <td>NaN</td>\n",
              "      <td>0</td>\n",
              "      <td>Transient</td>\n",
              "      <td>98.0</td>\n",
              "      <td>0</td>\n",
              "      <td>1</td>\n",
              "      <td>Check-Out</td>\n",
              "      <td>2015-07-03</td>\n",
              "    </tr>\n",
              "  </tbody>\n",
              "</table>\n",
              "<p>5 rows × 32 columns</p>\n",
              "</div>\n",
              "      <button class=\"colab-df-convert\" onclick=\"convertToInteractive('df-0e6a3d7b-97c7-4215-8c84-baf8a8b1032c')\"\n",
              "              title=\"Convert this dataframe to an interactive table.\"\n",
              "              style=\"display:none;\">\n",
              "        \n",
              "  <svg xmlns=\"http://www.w3.org/2000/svg\" height=\"24px\"viewBox=\"0 0 24 24\"\n",
              "       width=\"24px\">\n",
              "    <path d=\"M0 0h24v24H0V0z\" fill=\"none\"/>\n",
              "    <path d=\"M18.56 5.44l.94 2.06.94-2.06 2.06-.94-2.06-.94-.94-2.06-.94 2.06-2.06.94zm-11 1L8.5 8.5l.94-2.06 2.06-.94-2.06-.94L8.5 2.5l-.94 2.06-2.06.94zm10 10l.94 2.06.94-2.06 2.06-.94-2.06-.94-.94-2.06-.94 2.06-2.06.94z\"/><path d=\"M17.41 7.96l-1.37-1.37c-.4-.4-.92-.59-1.43-.59-.52 0-1.04.2-1.43.59L10.3 9.45l-7.72 7.72c-.78.78-.78 2.05 0 2.83L4 21.41c.39.39.9.59 1.41.59.51 0 1.02-.2 1.41-.59l7.78-7.78 2.81-2.81c.8-.78.8-2.07 0-2.86zM5.41 20L4 18.59l7.72-7.72 1.47 1.35L5.41 20z\"/>\n",
              "  </svg>\n",
              "      </button>\n",
              "      \n",
              "  <style>\n",
              "    .colab-df-container {\n",
              "      display:flex;\n",
              "      flex-wrap:wrap;\n",
              "      gap: 12px;\n",
              "    }\n",
              "\n",
              "    .colab-df-convert {\n",
              "      background-color: #E8F0FE;\n",
              "      border: none;\n",
              "      border-radius: 50%;\n",
              "      cursor: pointer;\n",
              "      display: none;\n",
              "      fill: #1967D2;\n",
              "      height: 32px;\n",
              "      padding: 0 0 0 0;\n",
              "      width: 32px;\n",
              "    }\n",
              "\n",
              "    .colab-df-convert:hover {\n",
              "      background-color: #E2EBFA;\n",
              "      box-shadow: 0px 1px 2px rgba(60, 64, 67, 0.3), 0px 1px 3px 1px rgba(60, 64, 67, 0.15);\n",
              "      fill: #174EA6;\n",
              "    }\n",
              "\n",
              "    [theme=dark] .colab-df-convert {\n",
              "      background-color: #3B4455;\n",
              "      fill: #D2E3FC;\n",
              "    }\n",
              "\n",
              "    [theme=dark] .colab-df-convert:hover {\n",
              "      background-color: #434B5C;\n",
              "      box-shadow: 0px 1px 3px 1px rgba(0, 0, 0, 0.15);\n",
              "      filter: drop-shadow(0px 1px 2px rgba(0, 0, 0, 0.3));\n",
              "      fill: #FFFFFF;\n",
              "    }\n",
              "  </style>\n",
              "\n",
              "      <script>\n",
              "        const buttonEl =\n",
              "          document.querySelector('#df-0e6a3d7b-97c7-4215-8c84-baf8a8b1032c button.colab-df-convert');\n",
              "        buttonEl.style.display =\n",
              "          google.colab.kernel.accessAllowed ? 'block' : 'none';\n",
              "\n",
              "        async function convertToInteractive(key) {\n",
              "          const element = document.querySelector('#df-0e6a3d7b-97c7-4215-8c84-baf8a8b1032c');\n",
              "          const dataTable =\n",
              "            await google.colab.kernel.invokeFunction('convertToInteractive',\n",
              "                                                     [key], {});\n",
              "          if (!dataTable) return;\n",
              "\n",
              "          const docLinkHtml = 'Like what you see? Visit the ' +\n",
              "            '<a target=\"_blank\" href=https://colab.research.google.com/notebooks/data_table.ipynb>data table notebook</a>'\n",
              "            + ' to learn more about interactive tables.';\n",
              "          element.innerHTML = '';\n",
              "          dataTable['output_type'] = 'display_data';\n",
              "          await google.colab.output.renderOutput(dataTable, element);\n",
              "          const docLink = document.createElement('div');\n",
              "          docLink.innerHTML = docLinkHtml;\n",
              "          element.appendChild(docLink);\n",
              "        }\n",
              "      </script>\n",
              "    </div>\n",
              "  </div>\n",
              "  "
            ]
          },
          "metadata": {},
          "execution_count": 4
        }
      ]
    },
    {
      "cell_type": "code",
      "source": [
        "df.tail()"
      ],
      "metadata": {
        "id": "icgrPVcAvpPx",
        "outputId": "f2c8a6e8-5282-4e87-c728-b707decc86d6",
        "colab": {
          "base_uri": "https://localhost:8080/",
          "height": 386
        }
      },
      "execution_count": null,
      "outputs": [
        {
          "output_type": "execute_result",
          "data": {
            "text/plain": [
              "             hotel  is_canceled  lead_time  arrival_date_year  \\\n",
              "119385  City Hotel            0         23               2017   \n",
              "119386  City Hotel            0        102               2017   \n",
              "119387  City Hotel            0         34               2017   \n",
              "119388  City Hotel            0        109               2017   \n",
              "119389  City Hotel            0        205               2017   \n",
              "\n",
              "       arrival_date_month  arrival_date_week_number  \\\n",
              "119385             August                        35   \n",
              "119386             August                        35   \n",
              "119387             August                        35   \n",
              "119388             August                        35   \n",
              "119389             August                        35   \n",
              "\n",
              "        arrival_date_day_of_month  stays_in_weekend_nights  \\\n",
              "119385                         30                        2   \n",
              "119386                         31                        2   \n",
              "119387                         31                        2   \n",
              "119388                         31                        2   \n",
              "119389                         29                        2   \n",
              "\n",
              "        stays_in_week_nights  adults  ...  deposit_type  agent company  \\\n",
              "119385                     5       2  ...    No Deposit  394.0     NaN   \n",
              "119386                     5       3  ...    No Deposit    9.0     NaN   \n",
              "119387                     5       2  ...    No Deposit    9.0     NaN   \n",
              "119388                     5       2  ...    No Deposit   89.0     NaN   \n",
              "119389                     7       2  ...    No Deposit    9.0     NaN   \n",
              "\n",
              "       days_in_waiting_list customer_type     adr  \\\n",
              "119385                    0     Transient   96.14   \n",
              "119386                    0     Transient  225.43   \n",
              "119387                    0     Transient  157.71   \n",
              "119388                    0     Transient  104.40   \n",
              "119389                    0     Transient  151.20   \n",
              "\n",
              "        required_car_parking_spaces  total_of_special_requests  \\\n",
              "119385                            0                          0   \n",
              "119386                            0                          2   \n",
              "119387                            0                          4   \n",
              "119388                            0                          0   \n",
              "119389                            0                          2   \n",
              "\n",
              "        reservation_status reservation_status_date  \n",
              "119385           Check-Out              2017-09-06  \n",
              "119386           Check-Out              2017-09-07  \n",
              "119387           Check-Out              2017-09-07  \n",
              "119388           Check-Out              2017-09-07  \n",
              "119389           Check-Out              2017-09-07  \n",
              "\n",
              "[5 rows x 32 columns]"
            ],
            "text/html": [
              "\n",
              "  <div id=\"df-d855da2b-f49f-40e6-90d0-59ea94c4d587\">\n",
              "    <div class=\"colab-df-container\">\n",
              "      <div>\n",
              "<style scoped>\n",
              "    .dataframe tbody tr th:only-of-type {\n",
              "        vertical-align: middle;\n",
              "    }\n",
              "\n",
              "    .dataframe tbody tr th {\n",
              "        vertical-align: top;\n",
              "    }\n",
              "\n",
              "    .dataframe thead th {\n",
              "        text-align: right;\n",
              "    }\n",
              "</style>\n",
              "<table border=\"1\" class=\"dataframe\">\n",
              "  <thead>\n",
              "    <tr style=\"text-align: right;\">\n",
              "      <th></th>\n",
              "      <th>hotel</th>\n",
              "      <th>is_canceled</th>\n",
              "      <th>lead_time</th>\n",
              "      <th>arrival_date_year</th>\n",
              "      <th>arrival_date_month</th>\n",
              "      <th>arrival_date_week_number</th>\n",
              "      <th>arrival_date_day_of_month</th>\n",
              "      <th>stays_in_weekend_nights</th>\n",
              "      <th>stays_in_week_nights</th>\n",
              "      <th>adults</th>\n",
              "      <th>...</th>\n",
              "      <th>deposit_type</th>\n",
              "      <th>agent</th>\n",
              "      <th>company</th>\n",
              "      <th>days_in_waiting_list</th>\n",
              "      <th>customer_type</th>\n",
              "      <th>adr</th>\n",
              "      <th>required_car_parking_spaces</th>\n",
              "      <th>total_of_special_requests</th>\n",
              "      <th>reservation_status</th>\n",
              "      <th>reservation_status_date</th>\n",
              "    </tr>\n",
              "  </thead>\n",
              "  <tbody>\n",
              "    <tr>\n",
              "      <th>119385</th>\n",
              "      <td>City Hotel</td>\n",
              "      <td>0</td>\n",
              "      <td>23</td>\n",
              "      <td>2017</td>\n",
              "      <td>August</td>\n",
              "      <td>35</td>\n",
              "      <td>30</td>\n",
              "      <td>2</td>\n",
              "      <td>5</td>\n",
              "      <td>2</td>\n",
              "      <td>...</td>\n",
              "      <td>No Deposit</td>\n",
              "      <td>394.0</td>\n",
              "      <td>NaN</td>\n",
              "      <td>0</td>\n",
              "      <td>Transient</td>\n",
              "      <td>96.14</td>\n",
              "      <td>0</td>\n",
              "      <td>0</td>\n",
              "      <td>Check-Out</td>\n",
              "      <td>2017-09-06</td>\n",
              "    </tr>\n",
              "    <tr>\n",
              "      <th>119386</th>\n",
              "      <td>City Hotel</td>\n",
              "      <td>0</td>\n",
              "      <td>102</td>\n",
              "      <td>2017</td>\n",
              "      <td>August</td>\n",
              "      <td>35</td>\n",
              "      <td>31</td>\n",
              "      <td>2</td>\n",
              "      <td>5</td>\n",
              "      <td>3</td>\n",
              "      <td>...</td>\n",
              "      <td>No Deposit</td>\n",
              "      <td>9.0</td>\n",
              "      <td>NaN</td>\n",
              "      <td>0</td>\n",
              "      <td>Transient</td>\n",
              "      <td>225.43</td>\n",
              "      <td>0</td>\n",
              "      <td>2</td>\n",
              "      <td>Check-Out</td>\n",
              "      <td>2017-09-07</td>\n",
              "    </tr>\n",
              "    <tr>\n",
              "      <th>119387</th>\n",
              "      <td>City Hotel</td>\n",
              "      <td>0</td>\n",
              "      <td>34</td>\n",
              "      <td>2017</td>\n",
              "      <td>August</td>\n",
              "      <td>35</td>\n",
              "      <td>31</td>\n",
              "      <td>2</td>\n",
              "      <td>5</td>\n",
              "      <td>2</td>\n",
              "      <td>...</td>\n",
              "      <td>No Deposit</td>\n",
              "      <td>9.0</td>\n",
              "      <td>NaN</td>\n",
              "      <td>0</td>\n",
              "      <td>Transient</td>\n",
              "      <td>157.71</td>\n",
              "      <td>0</td>\n",
              "      <td>4</td>\n",
              "      <td>Check-Out</td>\n",
              "      <td>2017-09-07</td>\n",
              "    </tr>\n",
              "    <tr>\n",
              "      <th>119388</th>\n",
              "      <td>City Hotel</td>\n",
              "      <td>0</td>\n",
              "      <td>109</td>\n",
              "      <td>2017</td>\n",
              "      <td>August</td>\n",
              "      <td>35</td>\n",
              "      <td>31</td>\n",
              "      <td>2</td>\n",
              "      <td>5</td>\n",
              "      <td>2</td>\n",
              "      <td>...</td>\n",
              "      <td>No Deposit</td>\n",
              "      <td>89.0</td>\n",
              "      <td>NaN</td>\n",
              "      <td>0</td>\n",
              "      <td>Transient</td>\n",
              "      <td>104.40</td>\n",
              "      <td>0</td>\n",
              "      <td>0</td>\n",
              "      <td>Check-Out</td>\n",
              "      <td>2017-09-07</td>\n",
              "    </tr>\n",
              "    <tr>\n",
              "      <th>119389</th>\n",
              "      <td>City Hotel</td>\n",
              "      <td>0</td>\n",
              "      <td>205</td>\n",
              "      <td>2017</td>\n",
              "      <td>August</td>\n",
              "      <td>35</td>\n",
              "      <td>29</td>\n",
              "      <td>2</td>\n",
              "      <td>7</td>\n",
              "      <td>2</td>\n",
              "      <td>...</td>\n",
              "      <td>No Deposit</td>\n",
              "      <td>9.0</td>\n",
              "      <td>NaN</td>\n",
              "      <td>0</td>\n",
              "      <td>Transient</td>\n",
              "      <td>151.20</td>\n",
              "      <td>0</td>\n",
              "      <td>2</td>\n",
              "      <td>Check-Out</td>\n",
              "      <td>2017-09-07</td>\n",
              "    </tr>\n",
              "  </tbody>\n",
              "</table>\n",
              "<p>5 rows × 32 columns</p>\n",
              "</div>\n",
              "      <button class=\"colab-df-convert\" onclick=\"convertToInteractive('df-d855da2b-f49f-40e6-90d0-59ea94c4d587')\"\n",
              "              title=\"Convert this dataframe to an interactive table.\"\n",
              "              style=\"display:none;\">\n",
              "        \n",
              "  <svg xmlns=\"http://www.w3.org/2000/svg\" height=\"24px\"viewBox=\"0 0 24 24\"\n",
              "       width=\"24px\">\n",
              "    <path d=\"M0 0h24v24H0V0z\" fill=\"none\"/>\n",
              "    <path d=\"M18.56 5.44l.94 2.06.94-2.06 2.06-.94-2.06-.94-.94-2.06-.94 2.06-2.06.94zm-11 1L8.5 8.5l.94-2.06 2.06-.94-2.06-.94L8.5 2.5l-.94 2.06-2.06.94zm10 10l.94 2.06.94-2.06 2.06-.94-2.06-.94-.94-2.06-.94 2.06-2.06.94z\"/><path d=\"M17.41 7.96l-1.37-1.37c-.4-.4-.92-.59-1.43-.59-.52 0-1.04.2-1.43.59L10.3 9.45l-7.72 7.72c-.78.78-.78 2.05 0 2.83L4 21.41c.39.39.9.59 1.41.59.51 0 1.02-.2 1.41-.59l7.78-7.78 2.81-2.81c.8-.78.8-2.07 0-2.86zM5.41 20L4 18.59l7.72-7.72 1.47 1.35L5.41 20z\"/>\n",
              "  </svg>\n",
              "      </button>\n",
              "      \n",
              "  <style>\n",
              "    .colab-df-container {\n",
              "      display:flex;\n",
              "      flex-wrap:wrap;\n",
              "      gap: 12px;\n",
              "    }\n",
              "\n",
              "    .colab-df-convert {\n",
              "      background-color: #E8F0FE;\n",
              "      border: none;\n",
              "      border-radius: 50%;\n",
              "      cursor: pointer;\n",
              "      display: none;\n",
              "      fill: #1967D2;\n",
              "      height: 32px;\n",
              "      padding: 0 0 0 0;\n",
              "      width: 32px;\n",
              "    }\n",
              "\n",
              "    .colab-df-convert:hover {\n",
              "      background-color: #E2EBFA;\n",
              "      box-shadow: 0px 1px 2px rgba(60, 64, 67, 0.3), 0px 1px 3px 1px rgba(60, 64, 67, 0.15);\n",
              "      fill: #174EA6;\n",
              "    }\n",
              "\n",
              "    [theme=dark] .colab-df-convert {\n",
              "      background-color: #3B4455;\n",
              "      fill: #D2E3FC;\n",
              "    }\n",
              "\n",
              "    [theme=dark] .colab-df-convert:hover {\n",
              "      background-color: #434B5C;\n",
              "      box-shadow: 0px 1px 3px 1px rgba(0, 0, 0, 0.15);\n",
              "      filter: drop-shadow(0px 1px 2px rgba(0, 0, 0, 0.3));\n",
              "      fill: #FFFFFF;\n",
              "    }\n",
              "  </style>\n",
              "\n",
              "      <script>\n",
              "        const buttonEl =\n",
              "          document.querySelector('#df-d855da2b-f49f-40e6-90d0-59ea94c4d587 button.colab-df-convert');\n",
              "        buttonEl.style.display =\n",
              "          google.colab.kernel.accessAllowed ? 'block' : 'none';\n",
              "\n",
              "        async function convertToInteractive(key) {\n",
              "          const element = document.querySelector('#df-d855da2b-f49f-40e6-90d0-59ea94c4d587');\n",
              "          const dataTable =\n",
              "            await google.colab.kernel.invokeFunction('convertToInteractive',\n",
              "                                                     [key], {});\n",
              "          if (!dataTable) return;\n",
              "\n",
              "          const docLinkHtml = 'Like what you see? Visit the ' +\n",
              "            '<a target=\"_blank\" href=https://colab.research.google.com/notebooks/data_table.ipynb>data table notebook</a>'\n",
              "            + ' to learn more about interactive tables.';\n",
              "          element.innerHTML = '';\n",
              "          dataTable['output_type'] = 'display_data';\n",
              "          await google.colab.output.renderOutput(dataTable, element);\n",
              "          const docLink = document.createElement('div');\n",
              "          docLink.innerHTML = docLinkHtml;\n",
              "          element.appendChild(docLink);\n",
              "        }\n",
              "      </script>\n",
              "    </div>\n",
              "  </div>\n",
              "  "
            ]
          },
          "metadata": {},
          "execution_count": 5
        }
      ]
    },
    {
      "cell_type": "code",
      "source": [
        "df.describe()"
      ],
      "metadata": {
        "colab": {
          "base_uri": "https://localhost:8080/",
          "height": 364
        },
        "id": "WSKOQX5P85Fc",
        "outputId": "c24886ab-0e28-4888-e58c-84d1e42b9b84"
      },
      "execution_count": null,
      "outputs": [
        {
          "output_type": "execute_result",
          "data": {
            "text/plain": [
              "         is_canceled      lead_time  arrival_date_year  \\\n",
              "count  119390.000000  119390.000000      119390.000000   \n",
              "mean        0.370416     104.011416        2016.156554   \n",
              "std         0.482918     106.863097           0.707476   \n",
              "min         0.000000       0.000000        2015.000000   \n",
              "25%         0.000000      18.000000        2016.000000   \n",
              "50%         0.000000      69.000000        2016.000000   \n",
              "75%         1.000000     160.000000        2017.000000   \n",
              "max         1.000000     737.000000        2017.000000   \n",
              "\n",
              "       arrival_date_week_number  arrival_date_day_of_month  \\\n",
              "count             119390.000000              119390.000000   \n",
              "mean                  27.165173                  15.798241   \n",
              "std                   13.605138                   8.780829   \n",
              "min                    1.000000                   1.000000   \n",
              "25%                   16.000000                   8.000000   \n",
              "50%                   28.000000                  16.000000   \n",
              "75%                   38.000000                  23.000000   \n",
              "max                   53.000000                  31.000000   \n",
              "\n",
              "       stays_in_weekend_nights  stays_in_week_nights         adults  \\\n",
              "count            119390.000000         119390.000000  119390.000000   \n",
              "mean                  0.927599              2.500302       1.856403   \n",
              "std                   0.998613              1.908286       0.579261   \n",
              "min                   0.000000              0.000000       0.000000   \n",
              "25%                   0.000000              1.000000       2.000000   \n",
              "50%                   1.000000              2.000000       2.000000   \n",
              "75%                   2.000000              3.000000       2.000000   \n",
              "max                  19.000000             50.000000      55.000000   \n",
              "\n",
              "            children         babies  is_repeated_guest  \\\n",
              "count  119386.000000  119390.000000      119390.000000   \n",
              "mean        0.103890       0.007949           0.031912   \n",
              "std         0.398561       0.097436           0.175767   \n",
              "min         0.000000       0.000000           0.000000   \n",
              "25%         0.000000       0.000000           0.000000   \n",
              "50%         0.000000       0.000000           0.000000   \n",
              "75%         0.000000       0.000000           0.000000   \n",
              "max        10.000000      10.000000           1.000000   \n",
              "\n",
              "       previous_cancellations  previous_bookings_not_canceled  \\\n",
              "count           119390.000000                   119390.000000   \n",
              "mean                 0.087118                        0.137097   \n",
              "std                  0.844336                        1.497437   \n",
              "min                  0.000000                        0.000000   \n",
              "25%                  0.000000                        0.000000   \n",
              "50%                  0.000000                        0.000000   \n",
              "75%                  0.000000                        0.000000   \n",
              "max                 26.000000                       72.000000   \n",
              "\n",
              "       booking_changes          agent      company  days_in_waiting_list  \\\n",
              "count    119390.000000  103050.000000  6797.000000         119390.000000   \n",
              "mean          0.221124      86.693382   189.266735              2.321149   \n",
              "std           0.652306     110.774548   131.655015             17.594721   \n",
              "min           0.000000       1.000000     6.000000              0.000000   \n",
              "25%           0.000000       9.000000    62.000000              0.000000   \n",
              "50%           0.000000      14.000000   179.000000              0.000000   \n",
              "75%           0.000000     229.000000   270.000000              0.000000   \n",
              "max          21.000000     535.000000   543.000000            391.000000   \n",
              "\n",
              "                 adr  required_car_parking_spaces  total_of_special_requests  \n",
              "count  119390.000000                119390.000000              119390.000000  \n",
              "mean      101.831122                     0.062518                   0.571363  \n",
              "std        50.535790                     0.245291                   0.792798  \n",
              "min        -6.380000                     0.000000                   0.000000  \n",
              "25%        69.290000                     0.000000                   0.000000  \n",
              "50%        94.575000                     0.000000                   0.000000  \n",
              "75%       126.000000                     0.000000                   1.000000  \n",
              "max      5400.000000                     8.000000                   5.000000  "
            ],
            "text/html": [
              "\n",
              "  <div id=\"df-b84432ed-8a95-47b5-85e1-ab2cddf4138e\">\n",
              "    <div class=\"colab-df-container\">\n",
              "      <div>\n",
              "<style scoped>\n",
              "    .dataframe tbody tr th:only-of-type {\n",
              "        vertical-align: middle;\n",
              "    }\n",
              "\n",
              "    .dataframe tbody tr th {\n",
              "        vertical-align: top;\n",
              "    }\n",
              "\n",
              "    .dataframe thead th {\n",
              "        text-align: right;\n",
              "    }\n",
              "</style>\n",
              "<table border=\"1\" class=\"dataframe\">\n",
              "  <thead>\n",
              "    <tr style=\"text-align: right;\">\n",
              "      <th></th>\n",
              "      <th>is_canceled</th>\n",
              "      <th>lead_time</th>\n",
              "      <th>arrival_date_year</th>\n",
              "      <th>arrival_date_week_number</th>\n",
              "      <th>arrival_date_day_of_month</th>\n",
              "      <th>stays_in_weekend_nights</th>\n",
              "      <th>stays_in_week_nights</th>\n",
              "      <th>adults</th>\n",
              "      <th>children</th>\n",
              "      <th>babies</th>\n",
              "      <th>is_repeated_guest</th>\n",
              "      <th>previous_cancellations</th>\n",
              "      <th>previous_bookings_not_canceled</th>\n",
              "      <th>booking_changes</th>\n",
              "      <th>agent</th>\n",
              "      <th>company</th>\n",
              "      <th>days_in_waiting_list</th>\n",
              "      <th>adr</th>\n",
              "      <th>required_car_parking_spaces</th>\n",
              "      <th>total_of_special_requests</th>\n",
              "    </tr>\n",
              "  </thead>\n",
              "  <tbody>\n",
              "    <tr>\n",
              "      <th>count</th>\n",
              "      <td>119390.000000</td>\n",
              "      <td>119390.000000</td>\n",
              "      <td>119390.000000</td>\n",
              "      <td>119390.000000</td>\n",
              "      <td>119390.000000</td>\n",
              "      <td>119390.000000</td>\n",
              "      <td>119390.000000</td>\n",
              "      <td>119390.000000</td>\n",
              "      <td>119386.000000</td>\n",
              "      <td>119390.000000</td>\n",
              "      <td>119390.000000</td>\n",
              "      <td>119390.000000</td>\n",
              "      <td>119390.000000</td>\n",
              "      <td>119390.000000</td>\n",
              "      <td>103050.000000</td>\n",
              "      <td>6797.000000</td>\n",
              "      <td>119390.000000</td>\n",
              "      <td>119390.000000</td>\n",
              "      <td>119390.000000</td>\n",
              "      <td>119390.000000</td>\n",
              "    </tr>\n",
              "    <tr>\n",
              "      <th>mean</th>\n",
              "      <td>0.370416</td>\n",
              "      <td>104.011416</td>\n",
              "      <td>2016.156554</td>\n",
              "      <td>27.165173</td>\n",
              "      <td>15.798241</td>\n",
              "      <td>0.927599</td>\n",
              "      <td>2.500302</td>\n",
              "      <td>1.856403</td>\n",
              "      <td>0.103890</td>\n",
              "      <td>0.007949</td>\n",
              "      <td>0.031912</td>\n",
              "      <td>0.087118</td>\n",
              "      <td>0.137097</td>\n",
              "      <td>0.221124</td>\n",
              "      <td>86.693382</td>\n",
              "      <td>189.266735</td>\n",
              "      <td>2.321149</td>\n",
              "      <td>101.831122</td>\n",
              "      <td>0.062518</td>\n",
              "      <td>0.571363</td>\n",
              "    </tr>\n",
              "    <tr>\n",
              "      <th>std</th>\n",
              "      <td>0.482918</td>\n",
              "      <td>106.863097</td>\n",
              "      <td>0.707476</td>\n",
              "      <td>13.605138</td>\n",
              "      <td>8.780829</td>\n",
              "      <td>0.998613</td>\n",
              "      <td>1.908286</td>\n",
              "      <td>0.579261</td>\n",
              "      <td>0.398561</td>\n",
              "      <td>0.097436</td>\n",
              "      <td>0.175767</td>\n",
              "      <td>0.844336</td>\n",
              "      <td>1.497437</td>\n",
              "      <td>0.652306</td>\n",
              "      <td>110.774548</td>\n",
              "      <td>131.655015</td>\n",
              "      <td>17.594721</td>\n",
              "      <td>50.535790</td>\n",
              "      <td>0.245291</td>\n",
              "      <td>0.792798</td>\n",
              "    </tr>\n",
              "    <tr>\n",
              "      <th>min</th>\n",
              "      <td>0.000000</td>\n",
              "      <td>0.000000</td>\n",
              "      <td>2015.000000</td>\n",
              "      <td>1.000000</td>\n",
              "      <td>1.000000</td>\n",
              "      <td>0.000000</td>\n",
              "      <td>0.000000</td>\n",
              "      <td>0.000000</td>\n",
              "      <td>0.000000</td>\n",
              "      <td>0.000000</td>\n",
              "      <td>0.000000</td>\n",
              "      <td>0.000000</td>\n",
              "      <td>0.000000</td>\n",
              "      <td>0.000000</td>\n",
              "      <td>1.000000</td>\n",
              "      <td>6.000000</td>\n",
              "      <td>0.000000</td>\n",
              "      <td>-6.380000</td>\n",
              "      <td>0.000000</td>\n",
              "      <td>0.000000</td>\n",
              "    </tr>\n",
              "    <tr>\n",
              "      <th>25%</th>\n",
              "      <td>0.000000</td>\n",
              "      <td>18.000000</td>\n",
              "      <td>2016.000000</td>\n",
              "      <td>16.000000</td>\n",
              "      <td>8.000000</td>\n",
              "      <td>0.000000</td>\n",
              "      <td>1.000000</td>\n",
              "      <td>2.000000</td>\n",
              "      <td>0.000000</td>\n",
              "      <td>0.000000</td>\n",
              "      <td>0.000000</td>\n",
              "      <td>0.000000</td>\n",
              "      <td>0.000000</td>\n",
              "      <td>0.000000</td>\n",
              "      <td>9.000000</td>\n",
              "      <td>62.000000</td>\n",
              "      <td>0.000000</td>\n",
              "      <td>69.290000</td>\n",
              "      <td>0.000000</td>\n",
              "      <td>0.000000</td>\n",
              "    </tr>\n",
              "    <tr>\n",
              "      <th>50%</th>\n",
              "      <td>0.000000</td>\n",
              "      <td>69.000000</td>\n",
              "      <td>2016.000000</td>\n",
              "      <td>28.000000</td>\n",
              "      <td>16.000000</td>\n",
              "      <td>1.000000</td>\n",
              "      <td>2.000000</td>\n",
              "      <td>2.000000</td>\n",
              "      <td>0.000000</td>\n",
              "      <td>0.000000</td>\n",
              "      <td>0.000000</td>\n",
              "      <td>0.000000</td>\n",
              "      <td>0.000000</td>\n",
              "      <td>0.000000</td>\n",
              "      <td>14.000000</td>\n",
              "      <td>179.000000</td>\n",
              "      <td>0.000000</td>\n",
              "      <td>94.575000</td>\n",
              "      <td>0.000000</td>\n",
              "      <td>0.000000</td>\n",
              "    </tr>\n",
              "    <tr>\n",
              "      <th>75%</th>\n",
              "      <td>1.000000</td>\n",
              "      <td>160.000000</td>\n",
              "      <td>2017.000000</td>\n",
              "      <td>38.000000</td>\n",
              "      <td>23.000000</td>\n",
              "      <td>2.000000</td>\n",
              "      <td>3.000000</td>\n",
              "      <td>2.000000</td>\n",
              "      <td>0.000000</td>\n",
              "      <td>0.000000</td>\n",
              "      <td>0.000000</td>\n",
              "      <td>0.000000</td>\n",
              "      <td>0.000000</td>\n",
              "      <td>0.000000</td>\n",
              "      <td>229.000000</td>\n",
              "      <td>270.000000</td>\n",
              "      <td>0.000000</td>\n",
              "      <td>126.000000</td>\n",
              "      <td>0.000000</td>\n",
              "      <td>1.000000</td>\n",
              "    </tr>\n",
              "    <tr>\n",
              "      <th>max</th>\n",
              "      <td>1.000000</td>\n",
              "      <td>737.000000</td>\n",
              "      <td>2017.000000</td>\n",
              "      <td>53.000000</td>\n",
              "      <td>31.000000</td>\n",
              "      <td>19.000000</td>\n",
              "      <td>50.000000</td>\n",
              "      <td>55.000000</td>\n",
              "      <td>10.000000</td>\n",
              "      <td>10.000000</td>\n",
              "      <td>1.000000</td>\n",
              "      <td>26.000000</td>\n",
              "      <td>72.000000</td>\n",
              "      <td>21.000000</td>\n",
              "      <td>535.000000</td>\n",
              "      <td>543.000000</td>\n",
              "      <td>391.000000</td>\n",
              "      <td>5400.000000</td>\n",
              "      <td>8.000000</td>\n",
              "      <td>5.000000</td>\n",
              "    </tr>\n",
              "  </tbody>\n",
              "</table>\n",
              "</div>\n",
              "      <button class=\"colab-df-convert\" onclick=\"convertToInteractive('df-b84432ed-8a95-47b5-85e1-ab2cddf4138e')\"\n",
              "              title=\"Convert this dataframe to an interactive table.\"\n",
              "              style=\"display:none;\">\n",
              "        \n",
              "  <svg xmlns=\"http://www.w3.org/2000/svg\" height=\"24px\"viewBox=\"0 0 24 24\"\n",
              "       width=\"24px\">\n",
              "    <path d=\"M0 0h24v24H0V0z\" fill=\"none\"/>\n",
              "    <path d=\"M18.56 5.44l.94 2.06.94-2.06 2.06-.94-2.06-.94-.94-2.06-.94 2.06-2.06.94zm-11 1L8.5 8.5l.94-2.06 2.06-.94-2.06-.94L8.5 2.5l-.94 2.06-2.06.94zm10 10l.94 2.06.94-2.06 2.06-.94-2.06-.94-.94-2.06-.94 2.06-2.06.94z\"/><path d=\"M17.41 7.96l-1.37-1.37c-.4-.4-.92-.59-1.43-.59-.52 0-1.04.2-1.43.59L10.3 9.45l-7.72 7.72c-.78.78-.78 2.05 0 2.83L4 21.41c.39.39.9.59 1.41.59.51 0 1.02-.2 1.41-.59l7.78-7.78 2.81-2.81c.8-.78.8-2.07 0-2.86zM5.41 20L4 18.59l7.72-7.72 1.47 1.35L5.41 20z\"/>\n",
              "  </svg>\n",
              "      </button>\n",
              "      \n",
              "  <style>\n",
              "    .colab-df-container {\n",
              "      display:flex;\n",
              "      flex-wrap:wrap;\n",
              "      gap: 12px;\n",
              "    }\n",
              "\n",
              "    .colab-df-convert {\n",
              "      background-color: #E8F0FE;\n",
              "      border: none;\n",
              "      border-radius: 50%;\n",
              "      cursor: pointer;\n",
              "      display: none;\n",
              "      fill: #1967D2;\n",
              "      height: 32px;\n",
              "      padding: 0 0 0 0;\n",
              "      width: 32px;\n",
              "    }\n",
              "\n",
              "    .colab-df-convert:hover {\n",
              "      background-color: #E2EBFA;\n",
              "      box-shadow: 0px 1px 2px rgba(60, 64, 67, 0.3), 0px 1px 3px 1px rgba(60, 64, 67, 0.15);\n",
              "      fill: #174EA6;\n",
              "    }\n",
              "\n",
              "    [theme=dark] .colab-df-convert {\n",
              "      background-color: #3B4455;\n",
              "      fill: #D2E3FC;\n",
              "    }\n",
              "\n",
              "    [theme=dark] .colab-df-convert:hover {\n",
              "      background-color: #434B5C;\n",
              "      box-shadow: 0px 1px 3px 1px rgba(0, 0, 0, 0.15);\n",
              "      filter: drop-shadow(0px 1px 2px rgba(0, 0, 0, 0.3));\n",
              "      fill: #FFFFFF;\n",
              "    }\n",
              "  </style>\n",
              "\n",
              "      <script>\n",
              "        const buttonEl =\n",
              "          document.querySelector('#df-b84432ed-8a95-47b5-85e1-ab2cddf4138e button.colab-df-convert');\n",
              "        buttonEl.style.display =\n",
              "          google.colab.kernel.accessAllowed ? 'block' : 'none';\n",
              "\n",
              "        async function convertToInteractive(key) {\n",
              "          const element = document.querySelector('#df-b84432ed-8a95-47b5-85e1-ab2cddf4138e');\n",
              "          const dataTable =\n",
              "            await google.colab.kernel.invokeFunction('convertToInteractive',\n",
              "                                                     [key], {});\n",
              "          if (!dataTable) return;\n",
              "\n",
              "          const docLinkHtml = 'Like what you see? Visit the ' +\n",
              "            '<a target=\"_blank\" href=https://colab.research.google.com/notebooks/data_table.ipynb>data table notebook</a>'\n",
              "            + ' to learn more about interactive tables.';\n",
              "          element.innerHTML = '';\n",
              "          dataTable['output_type'] = 'display_data';\n",
              "          await google.colab.output.renderOutput(dataTable, element);\n",
              "          const docLink = document.createElement('div');\n",
              "          docLink.innerHTML = docLinkHtml;\n",
              "          element.appendChild(docLink);\n",
              "        }\n",
              "      </script>\n",
              "    </div>\n",
              "  </div>\n",
              "  "
            ]
          },
          "metadata": {},
          "execution_count": 6
        }
      ]
    },
    {
      "cell_type": "code",
      "source": [
        "df.shape"
      ],
      "metadata": {
        "id": "1Wobh58sv0Os",
        "outputId": "45c29dcc-650a-4314-f966-a02ec6198b19",
        "colab": {
          "base_uri": "https://localhost:8080/"
        }
      },
      "execution_count": null,
      "outputs": [
        {
          "output_type": "execute_result",
          "data": {
            "text/plain": [
              "(119390, 32)"
            ]
          },
          "metadata": {},
          "execution_count": 7
        }
      ]
    },
    {
      "cell_type": "code",
      "source": [
        "df.columns"
      ],
      "metadata": {
        "colab": {
          "base_uri": "https://localhost:8080/"
        },
        "id": "hsv11rrQ8xx0",
        "outputId": "c392c96e-565a-4420-e97b-24f63bacfaa3"
      },
      "execution_count": null,
      "outputs": [
        {
          "output_type": "execute_result",
          "data": {
            "text/plain": [
              "Index(['hotel', 'is_canceled', 'lead_time', 'arrival_date_year',\n",
              "       'arrival_date_month', 'arrival_date_week_number',\n",
              "       'arrival_date_day_of_month', 'stays_in_weekend_nights',\n",
              "       'stays_in_week_nights', 'adults', 'children', 'babies', 'meal',\n",
              "       'country', 'market_segment', 'distribution_channel',\n",
              "       'is_repeated_guest', 'previous_cancellations',\n",
              "       'previous_bookings_not_canceled', 'reserved_room_type',\n",
              "       'assigned_room_type', 'booking_changes', 'deposit_type', 'agent',\n",
              "       'company', 'days_in_waiting_list', 'customer_type', 'adr',\n",
              "       'required_car_parking_spaces', 'total_of_special_requests',\n",
              "       'reservation_status', 'reservation_status_date'],\n",
              "      dtype='object')"
            ]
          },
          "metadata": {},
          "execution_count": 8
        }
      ]
    },
    {
      "cell_type": "code",
      "source": [
        "df.nunique()"
      ],
      "metadata": {
        "colab": {
          "base_uri": "https://localhost:8080/"
        },
        "id": "6kUJwEvZ9bCn",
        "outputId": "796ff212-9332-4d86-ac6f-91e5cbccd1e1"
      },
      "execution_count": null,
      "outputs": [
        {
          "output_type": "execute_result",
          "data": {
            "text/plain": [
              "hotel                                2\n",
              "is_canceled                          2\n",
              "lead_time                          479\n",
              "arrival_date_year                    3\n",
              "arrival_date_month                  12\n",
              "arrival_date_week_number            53\n",
              "arrival_date_day_of_month           31\n",
              "stays_in_weekend_nights             17\n",
              "stays_in_week_nights                35\n",
              "adults                              14\n",
              "children                             5\n",
              "babies                               5\n",
              "meal                                 5\n",
              "country                            177\n",
              "market_segment                       8\n",
              "distribution_channel                 5\n",
              "is_repeated_guest                    2\n",
              "previous_cancellations              15\n",
              "previous_bookings_not_canceled      73\n",
              "reserved_room_type                  10\n",
              "assigned_room_type                  12\n",
              "booking_changes                     21\n",
              "deposit_type                         3\n",
              "agent                              333\n",
              "company                            352\n",
              "days_in_waiting_list               128\n",
              "customer_type                        4\n",
              "adr                               8879\n",
              "required_car_parking_spaces          5\n",
              "total_of_special_requests            6\n",
              "reservation_status                   3\n",
              "reservation_status_date            926\n",
              "dtype: int64"
            ]
          },
          "metadata": {},
          "execution_count": 9
        }
      ]
    },
    {
      "cell_type": "code",
      "source": [
        "# view data according to arrival_date_month and arrival_date_year\n",
        "df.groupby(['arrival_date_month', 'arrival_date_year']).count()"
      ],
      "metadata": {
        "colab": {
          "base_uri": "https://localhost:8080/",
          "height": 989
        },
        "id": "5sZJCgoyfpui",
        "outputId": "6f054d48-d78e-4c92-bd3e-4c400d122ce7"
      },
      "execution_count": null,
      "outputs": [
        {
          "output_type": "execute_result",
          "data": {
            "text/plain": [
              "                                      hotel  is_canceled  lead_time  \\\n",
              "arrival_date_month arrival_date_year                                  \n",
              "April              2016                5428         5428       5428   \n",
              "                   2017                5661         5661       5661   \n",
              "August             2015                3889         3889       3889   \n",
              "                   2016                5063         5063       5063   \n",
              "                   2017                4925         4925       4925   \n",
              "December           2015                2920         2920       2920   \n",
              "                   2016                3860         3860       3860   \n",
              "February           2016                3891         3891       3891   \n",
              "                   2017                4177         4177       4177   \n",
              "January            2016                2248         2248       2248   \n",
              "                   2017                3681         3681       3681   \n",
              "July               2015                2776         2776       2776   \n",
              "                   2016                4572         4572       4572   \n",
              "                   2017                5313         5313       5313   \n",
              "June               2016                5292         5292       5292   \n",
              "                   2017                5647         5647       5647   \n",
              "March              2016                4824         4824       4824   \n",
              "                   2017                4970         4970       4970   \n",
              "May                2016                5478         5478       5478   \n",
              "                   2017                6313         6313       6313   \n",
              "November           2015                2340         2340       2340   \n",
              "                   2016                4454         4454       4454   \n",
              "October            2015                4957         4957       4957   \n",
              "                   2016                6203         6203       6203   \n",
              "September          2015                5114         5114       5114   \n",
              "                   2016                5394         5394       5394   \n",
              "\n",
              "                                      arrival_date_week_number  \\\n",
              "arrival_date_month arrival_date_year                             \n",
              "April              2016                                   5428   \n",
              "                   2017                                   5661   \n",
              "August             2015                                   3889   \n",
              "                   2016                                   5063   \n",
              "                   2017                                   4925   \n",
              "December           2015                                   2920   \n",
              "                   2016                                   3860   \n",
              "February           2016                                   3891   \n",
              "                   2017                                   4177   \n",
              "January            2016                                   2248   \n",
              "                   2017                                   3681   \n",
              "July               2015                                   2776   \n",
              "                   2016                                   4572   \n",
              "                   2017                                   5313   \n",
              "June               2016                                   5292   \n",
              "                   2017                                   5647   \n",
              "March              2016                                   4824   \n",
              "                   2017                                   4970   \n",
              "May                2016                                   5478   \n",
              "                   2017                                   6313   \n",
              "November           2015                                   2340   \n",
              "                   2016                                   4454   \n",
              "October            2015                                   4957   \n",
              "                   2016                                   6203   \n",
              "September          2015                                   5114   \n",
              "                   2016                                   5394   \n",
              "\n",
              "                                      arrival_date_day_of_month  \\\n",
              "arrival_date_month arrival_date_year                              \n",
              "April              2016                                    5428   \n",
              "                   2017                                    5661   \n",
              "August             2015                                    3889   \n",
              "                   2016                                    5063   \n",
              "                   2017                                    4925   \n",
              "December           2015                                    2920   \n",
              "                   2016                                    3860   \n",
              "February           2016                                    3891   \n",
              "                   2017                                    4177   \n",
              "January            2016                                    2248   \n",
              "                   2017                                    3681   \n",
              "July               2015                                    2776   \n",
              "                   2016                                    4572   \n",
              "                   2017                                    5313   \n",
              "June               2016                                    5292   \n",
              "                   2017                                    5647   \n",
              "March              2016                                    4824   \n",
              "                   2017                                    4970   \n",
              "May                2016                                    5478   \n",
              "                   2017                                    6313   \n",
              "November           2015                                    2340   \n",
              "                   2016                                    4454   \n",
              "October            2015                                    4957   \n",
              "                   2016                                    6203   \n",
              "September          2015                                    5114   \n",
              "                   2016                                    5394   \n",
              "\n",
              "                                      stays_in_weekend_nights  \\\n",
              "arrival_date_month arrival_date_year                            \n",
              "April              2016                                  5428   \n",
              "                   2017                                  5661   \n",
              "August             2015                                  3889   \n",
              "                   2016                                  5063   \n",
              "                   2017                                  4925   \n",
              "December           2015                                  2920   \n",
              "                   2016                                  3860   \n",
              "February           2016                                  3891   \n",
              "                   2017                                  4177   \n",
              "January            2016                                  2248   \n",
              "                   2017                                  3681   \n",
              "July               2015                                  2776   \n",
              "                   2016                                  4572   \n",
              "                   2017                                  5313   \n",
              "June               2016                                  5292   \n",
              "                   2017                                  5647   \n",
              "March              2016                                  4824   \n",
              "                   2017                                  4970   \n",
              "May                2016                                  5478   \n",
              "                   2017                                  6313   \n",
              "November           2015                                  2340   \n",
              "                   2016                                  4454   \n",
              "October            2015                                  4957   \n",
              "                   2016                                  6203   \n",
              "September          2015                                  5114   \n",
              "                   2016                                  5394   \n",
              "\n",
              "                                      stays_in_week_nights  adults  children  \\\n",
              "arrival_date_month arrival_date_year                                           \n",
              "April              2016                               5428    5428      5428   \n",
              "                   2017                               5661    5661      5661   \n",
              "August             2015                               3889    3889      3885   \n",
              "                   2016                               5063    5063      5063   \n",
              "                   2017                               4925    4925      4925   \n",
              "December           2015                               2920    2920      2920   \n",
              "                   2016                               3860    3860      3860   \n",
              "February           2016                               3891    3891      3891   \n",
              "                   2017                               4177    4177      4177   \n",
              "January            2016                               2248    2248      2248   \n",
              "                   2017                               3681    3681      3681   \n",
              "July               2015                               2776    2776      2776   \n",
              "                   2016                               4572    4572      4572   \n",
              "                   2017                               5313    5313      5313   \n",
              "June               2016                               5292    5292      5292   \n",
              "                   2017                               5647    5647      5647   \n",
              "March              2016                               4824    4824      4824   \n",
              "                   2017                               4970    4970      4970   \n",
              "May                2016                               5478    5478      5478   \n",
              "                   2017                               6313    6313      6313   \n",
              "November           2015                               2340    2340      2340   \n",
              "                   2016                               4454    4454      4454   \n",
              "October            2015                               4957    4957      4957   \n",
              "                   2016                               6203    6203      6203   \n",
              "September          2015                               5114    5114      5114   \n",
              "                   2016                               5394    5394      5394   \n",
              "\n",
              "                                      babies  ...  deposit_type  agent  \\\n",
              "arrival_date_month arrival_date_year          ...                        \n",
              "April              2016                 5428  ...          5428   4854   \n",
              "                   2017                 5661  ...          5661   4904   \n",
              "August             2015                 3889  ...          3889   3357   \n",
              "                   2016                 5063  ...          5063   4692   \n",
              "                   2017                 4925  ...          4925   4633   \n",
              "December           2015                 2920  ...          2920   2367   \n",
              "                   2016                 3860  ...          3860   3264   \n",
              "February           2016                 3891  ...          3891   3056   \n",
              "                   2017                 4177  ...          4177   3405   \n",
              "January            2016                 2248  ...          2248   1784   \n",
              "                   2017                 3681  ...          3681   2779   \n",
              "July               2015                 2776  ...          2776   2569   \n",
              "                   2016                 4572  ...          4572   4171   \n",
              "                   2017                 5313  ...          5313   4864   \n",
              "June               2016                 5292  ...          5292   4863   \n",
              "                   2017                 5647  ...          5647   4943   \n",
              "March              2016                 4824  ...          4824   4046   \n",
              "                   2017                 4970  ...          4970   4103   \n",
              "May                2016                 5478  ...          5478   4697   \n",
              "                   2017                 6313  ...          6313   5392   \n",
              "November           2015                 2340  ...          2340   1856   \n",
              "                   2016                 4454  ...          4454   3553   \n",
              "October            2015                 4957  ...          4957   4183   \n",
              "                   2016                 6203  ...          6203   5278   \n",
              "September          2015                 5114  ...          5114   4565   \n",
              "                   2016                 5394  ...          5394   4872   \n",
              "\n",
              "                                      company  days_in_waiting_list  \\\n",
              "arrival_date_month arrival_date_year                                  \n",
              "April              2016                   215                  5428   \n",
              "                   2017                   381                  5661   \n",
              "August             2015                   145                  3889   \n",
              "                   2016                    70                  5063   \n",
              "                   2017                    73                  4925   \n",
              "December           2015                   167                  2920   \n",
              "                   2016                   203                  3860   \n",
              "February           2016                   367                  3891   \n",
              "                   2017                   374                  4177   \n",
              "January            2016                   163                  2248   \n",
              "                   2017                   376                  3681   \n",
              "July               2015                    25                  2776   \n",
              "                   2016                   159                  4572   \n",
              "                   2017                   116                  5313   \n",
              "June               2016                   166                  5292   \n",
              "                   2017                   265                  5647   \n",
              "March              2016                   354                  4824   \n",
              "                   2017                   377                  4970   \n",
              "May                2016                   464                  5478   \n",
              "                   2017                   348                  6313   \n",
              "November           2015                   421                  2340   \n",
              "                   2016                   360                  4454   \n",
              "October            2015                   307                  4957   \n",
              "                   2016                   400                  6203   \n",
              "September          2015                   240                  5114   \n",
              "                   2016                   261                  5394   \n",
              "\n",
              "                                      customer_type   adr  \\\n",
              "arrival_date_month arrival_date_year                        \n",
              "April              2016                        5428  5428   \n",
              "                   2017                        5661  5661   \n",
              "August             2015                        3889  3889   \n",
              "                   2016                        5063  5063   \n",
              "                   2017                        4925  4925   \n",
              "December           2015                        2920  2920   \n",
              "                   2016                        3860  3860   \n",
              "February           2016                        3891  3891   \n",
              "                   2017                        4177  4177   \n",
              "January            2016                        2248  2248   \n",
              "                   2017                        3681  3681   \n",
              "July               2015                        2776  2776   \n",
              "                   2016                        4572  4572   \n",
              "                   2017                        5313  5313   \n",
              "June               2016                        5292  5292   \n",
              "                   2017                        5647  5647   \n",
              "March              2016                        4824  4824   \n",
              "                   2017                        4970  4970   \n",
              "May                2016                        5478  5478   \n",
              "                   2017                        6313  6313   \n",
              "November           2015                        2340  2340   \n",
              "                   2016                        4454  4454   \n",
              "October            2015                        4957  4957   \n",
              "                   2016                        6203  6203   \n",
              "September          2015                        5114  5114   \n",
              "                   2016                        5394  5394   \n",
              "\n",
              "                                      required_car_parking_spaces  \\\n",
              "arrival_date_month arrival_date_year                                \n",
              "April              2016                                      5428   \n",
              "                   2017                                      5661   \n",
              "August             2015                                      3889   \n",
              "                   2016                                      5063   \n",
              "                   2017                                      4925   \n",
              "December           2015                                      2920   \n",
              "                   2016                                      3860   \n",
              "February           2016                                      3891   \n",
              "                   2017                                      4177   \n",
              "January            2016                                      2248   \n",
              "                   2017                                      3681   \n",
              "July               2015                                      2776   \n",
              "                   2016                                      4572   \n",
              "                   2017                                      5313   \n",
              "June               2016                                      5292   \n",
              "                   2017                                      5647   \n",
              "March              2016                                      4824   \n",
              "                   2017                                      4970   \n",
              "May                2016                                      5478   \n",
              "                   2017                                      6313   \n",
              "November           2015                                      2340   \n",
              "                   2016                                      4454   \n",
              "October            2015                                      4957   \n",
              "                   2016                                      6203   \n",
              "September          2015                                      5114   \n",
              "                   2016                                      5394   \n",
              "\n",
              "                                      total_of_special_requests  \\\n",
              "arrival_date_month arrival_date_year                              \n",
              "April              2016                                    5428   \n",
              "                   2017                                    5661   \n",
              "August             2015                                    3889   \n",
              "                   2016                                    5063   \n",
              "                   2017                                    4925   \n",
              "December           2015                                    2920   \n",
              "                   2016                                    3860   \n",
              "February           2016                                    3891   \n",
              "                   2017                                    4177   \n",
              "January            2016                                    2248   \n",
              "                   2017                                    3681   \n",
              "July               2015                                    2776   \n",
              "                   2016                                    4572   \n",
              "                   2017                                    5313   \n",
              "June               2016                                    5292   \n",
              "                   2017                                    5647   \n",
              "March              2016                                    4824   \n",
              "                   2017                                    4970   \n",
              "May                2016                                    5478   \n",
              "                   2017                                    6313   \n",
              "November           2015                                    2340   \n",
              "                   2016                                    4454   \n",
              "October            2015                                    4957   \n",
              "                   2016                                    6203   \n",
              "September          2015                                    5114   \n",
              "                   2016                                    5394   \n",
              "\n",
              "                                      reservation_status  \\\n",
              "arrival_date_month arrival_date_year                       \n",
              "April              2016                             5428   \n",
              "                   2017                             5661   \n",
              "August             2015                             3889   \n",
              "                   2016                             5063   \n",
              "                   2017                             4925   \n",
              "December           2015                             2920   \n",
              "                   2016                             3860   \n",
              "February           2016                             3891   \n",
              "                   2017                             4177   \n",
              "January            2016                             2248   \n",
              "                   2017                             3681   \n",
              "July               2015                             2776   \n",
              "                   2016                             4572   \n",
              "                   2017                             5313   \n",
              "June               2016                             5292   \n",
              "                   2017                             5647   \n",
              "March              2016                             4824   \n",
              "                   2017                             4970   \n",
              "May                2016                             5478   \n",
              "                   2017                             6313   \n",
              "November           2015                             2340   \n",
              "                   2016                             4454   \n",
              "October            2015                             4957   \n",
              "                   2016                             6203   \n",
              "September          2015                             5114   \n",
              "                   2016                             5394   \n",
              "\n",
              "                                      reservation_status_date  \n",
              "arrival_date_month arrival_date_year                           \n",
              "April              2016                                  5428  \n",
              "                   2017                                  5661  \n",
              "August             2015                                  3889  \n",
              "                   2016                                  5063  \n",
              "                   2017                                  4925  \n",
              "December           2015                                  2920  \n",
              "                   2016                                  3860  \n",
              "February           2016                                  3891  \n",
              "                   2017                                  4177  \n",
              "January            2016                                  2248  \n",
              "                   2017                                  3681  \n",
              "July               2015                                  2776  \n",
              "                   2016                                  4572  \n",
              "                   2017                                  5313  \n",
              "June               2016                                  5292  \n",
              "                   2017                                  5647  \n",
              "March              2016                                  4824  \n",
              "                   2017                                  4970  \n",
              "May                2016                                  5478  \n",
              "                   2017                                  6313  \n",
              "November           2015                                  2340  \n",
              "                   2016                                  4454  \n",
              "October            2015                                  4957  \n",
              "                   2016                                  6203  \n",
              "September          2015                                  5114  \n",
              "                   2016                                  5394  \n",
              "\n",
              "[26 rows x 30 columns]"
            ],
            "text/html": [
              "\n",
              "  <div id=\"df-5b4957de-f8ae-498a-9273-e67b8b9a275c\">\n",
              "    <div class=\"colab-df-container\">\n",
              "      <div>\n",
              "<style scoped>\n",
              "    .dataframe tbody tr th:only-of-type {\n",
              "        vertical-align: middle;\n",
              "    }\n",
              "\n",
              "    .dataframe tbody tr th {\n",
              "        vertical-align: top;\n",
              "    }\n",
              "\n",
              "    .dataframe thead th {\n",
              "        text-align: right;\n",
              "    }\n",
              "</style>\n",
              "<table border=\"1\" class=\"dataframe\">\n",
              "  <thead>\n",
              "    <tr style=\"text-align: right;\">\n",
              "      <th></th>\n",
              "      <th></th>\n",
              "      <th>hotel</th>\n",
              "      <th>is_canceled</th>\n",
              "      <th>lead_time</th>\n",
              "      <th>arrival_date_week_number</th>\n",
              "      <th>arrival_date_day_of_month</th>\n",
              "      <th>stays_in_weekend_nights</th>\n",
              "      <th>stays_in_week_nights</th>\n",
              "      <th>adults</th>\n",
              "      <th>children</th>\n",
              "      <th>babies</th>\n",
              "      <th>...</th>\n",
              "      <th>deposit_type</th>\n",
              "      <th>agent</th>\n",
              "      <th>company</th>\n",
              "      <th>days_in_waiting_list</th>\n",
              "      <th>customer_type</th>\n",
              "      <th>adr</th>\n",
              "      <th>required_car_parking_spaces</th>\n",
              "      <th>total_of_special_requests</th>\n",
              "      <th>reservation_status</th>\n",
              "      <th>reservation_status_date</th>\n",
              "    </tr>\n",
              "    <tr>\n",
              "      <th>arrival_date_month</th>\n",
              "      <th>arrival_date_year</th>\n",
              "      <th></th>\n",
              "      <th></th>\n",
              "      <th></th>\n",
              "      <th></th>\n",
              "      <th></th>\n",
              "      <th></th>\n",
              "      <th></th>\n",
              "      <th></th>\n",
              "      <th></th>\n",
              "      <th></th>\n",
              "      <th></th>\n",
              "      <th></th>\n",
              "      <th></th>\n",
              "      <th></th>\n",
              "      <th></th>\n",
              "      <th></th>\n",
              "      <th></th>\n",
              "      <th></th>\n",
              "      <th></th>\n",
              "      <th></th>\n",
              "      <th></th>\n",
              "    </tr>\n",
              "  </thead>\n",
              "  <tbody>\n",
              "    <tr>\n",
              "      <th rowspan=\"2\" valign=\"top\">April</th>\n",
              "      <th>2016</th>\n",
              "      <td>5428</td>\n",
              "      <td>5428</td>\n",
              "      <td>5428</td>\n",
              "      <td>5428</td>\n",
              "      <td>5428</td>\n",
              "      <td>5428</td>\n",
              "      <td>5428</td>\n",
              "      <td>5428</td>\n",
              "      <td>5428</td>\n",
              "      <td>5428</td>\n",
              "      <td>...</td>\n",
              "      <td>5428</td>\n",
              "      <td>4854</td>\n",
              "      <td>215</td>\n",
              "      <td>5428</td>\n",
              "      <td>5428</td>\n",
              "      <td>5428</td>\n",
              "      <td>5428</td>\n",
              "      <td>5428</td>\n",
              "      <td>5428</td>\n",
              "      <td>5428</td>\n",
              "    </tr>\n",
              "    <tr>\n",
              "      <th>2017</th>\n",
              "      <td>5661</td>\n",
              "      <td>5661</td>\n",
              "      <td>5661</td>\n",
              "      <td>5661</td>\n",
              "      <td>5661</td>\n",
              "      <td>5661</td>\n",
              "      <td>5661</td>\n",
              "      <td>5661</td>\n",
              "      <td>5661</td>\n",
              "      <td>5661</td>\n",
              "      <td>...</td>\n",
              "      <td>5661</td>\n",
              "      <td>4904</td>\n",
              "      <td>381</td>\n",
              "      <td>5661</td>\n",
              "      <td>5661</td>\n",
              "      <td>5661</td>\n",
              "      <td>5661</td>\n",
              "      <td>5661</td>\n",
              "      <td>5661</td>\n",
              "      <td>5661</td>\n",
              "    </tr>\n",
              "    <tr>\n",
              "      <th rowspan=\"3\" valign=\"top\">August</th>\n",
              "      <th>2015</th>\n",
              "      <td>3889</td>\n",
              "      <td>3889</td>\n",
              "      <td>3889</td>\n",
              "      <td>3889</td>\n",
              "      <td>3889</td>\n",
              "      <td>3889</td>\n",
              "      <td>3889</td>\n",
              "      <td>3889</td>\n",
              "      <td>3885</td>\n",
              "      <td>3889</td>\n",
              "      <td>...</td>\n",
              "      <td>3889</td>\n",
              "      <td>3357</td>\n",
              "      <td>145</td>\n",
              "      <td>3889</td>\n",
              "      <td>3889</td>\n",
              "      <td>3889</td>\n",
              "      <td>3889</td>\n",
              "      <td>3889</td>\n",
              "      <td>3889</td>\n",
              "      <td>3889</td>\n",
              "    </tr>\n",
              "    <tr>\n",
              "      <th>2016</th>\n",
              "      <td>5063</td>\n",
              "      <td>5063</td>\n",
              "      <td>5063</td>\n",
              "      <td>5063</td>\n",
              "      <td>5063</td>\n",
              "      <td>5063</td>\n",
              "      <td>5063</td>\n",
              "      <td>5063</td>\n",
              "      <td>5063</td>\n",
              "      <td>5063</td>\n",
              "      <td>...</td>\n",
              "      <td>5063</td>\n",
              "      <td>4692</td>\n",
              "      <td>70</td>\n",
              "      <td>5063</td>\n",
              "      <td>5063</td>\n",
              "      <td>5063</td>\n",
              "      <td>5063</td>\n",
              "      <td>5063</td>\n",
              "      <td>5063</td>\n",
              "      <td>5063</td>\n",
              "    </tr>\n",
              "    <tr>\n",
              "      <th>2017</th>\n",
              "      <td>4925</td>\n",
              "      <td>4925</td>\n",
              "      <td>4925</td>\n",
              "      <td>4925</td>\n",
              "      <td>4925</td>\n",
              "      <td>4925</td>\n",
              "      <td>4925</td>\n",
              "      <td>4925</td>\n",
              "      <td>4925</td>\n",
              "      <td>4925</td>\n",
              "      <td>...</td>\n",
              "      <td>4925</td>\n",
              "      <td>4633</td>\n",
              "      <td>73</td>\n",
              "      <td>4925</td>\n",
              "      <td>4925</td>\n",
              "      <td>4925</td>\n",
              "      <td>4925</td>\n",
              "      <td>4925</td>\n",
              "      <td>4925</td>\n",
              "      <td>4925</td>\n",
              "    </tr>\n",
              "    <tr>\n",
              "      <th rowspan=\"2\" valign=\"top\">December</th>\n",
              "      <th>2015</th>\n",
              "      <td>2920</td>\n",
              "      <td>2920</td>\n",
              "      <td>2920</td>\n",
              "      <td>2920</td>\n",
              "      <td>2920</td>\n",
              "      <td>2920</td>\n",
              "      <td>2920</td>\n",
              "      <td>2920</td>\n",
              "      <td>2920</td>\n",
              "      <td>2920</td>\n",
              "      <td>...</td>\n",
              "      <td>2920</td>\n",
              "      <td>2367</td>\n",
              "      <td>167</td>\n",
              "      <td>2920</td>\n",
              "      <td>2920</td>\n",
              "      <td>2920</td>\n",
              "      <td>2920</td>\n",
              "      <td>2920</td>\n",
              "      <td>2920</td>\n",
              "      <td>2920</td>\n",
              "    </tr>\n",
              "    <tr>\n",
              "      <th>2016</th>\n",
              "      <td>3860</td>\n",
              "      <td>3860</td>\n",
              "      <td>3860</td>\n",
              "      <td>3860</td>\n",
              "      <td>3860</td>\n",
              "      <td>3860</td>\n",
              "      <td>3860</td>\n",
              "      <td>3860</td>\n",
              "      <td>3860</td>\n",
              "      <td>3860</td>\n",
              "      <td>...</td>\n",
              "      <td>3860</td>\n",
              "      <td>3264</td>\n",
              "      <td>203</td>\n",
              "      <td>3860</td>\n",
              "      <td>3860</td>\n",
              "      <td>3860</td>\n",
              "      <td>3860</td>\n",
              "      <td>3860</td>\n",
              "      <td>3860</td>\n",
              "      <td>3860</td>\n",
              "    </tr>\n",
              "    <tr>\n",
              "      <th rowspan=\"2\" valign=\"top\">February</th>\n",
              "      <th>2016</th>\n",
              "      <td>3891</td>\n",
              "      <td>3891</td>\n",
              "      <td>3891</td>\n",
              "      <td>3891</td>\n",
              "      <td>3891</td>\n",
              "      <td>3891</td>\n",
              "      <td>3891</td>\n",
              "      <td>3891</td>\n",
              "      <td>3891</td>\n",
              "      <td>3891</td>\n",
              "      <td>...</td>\n",
              "      <td>3891</td>\n",
              "      <td>3056</td>\n",
              "      <td>367</td>\n",
              "      <td>3891</td>\n",
              "      <td>3891</td>\n",
              "      <td>3891</td>\n",
              "      <td>3891</td>\n",
              "      <td>3891</td>\n",
              "      <td>3891</td>\n",
              "      <td>3891</td>\n",
              "    </tr>\n",
              "    <tr>\n",
              "      <th>2017</th>\n",
              "      <td>4177</td>\n",
              "      <td>4177</td>\n",
              "      <td>4177</td>\n",
              "      <td>4177</td>\n",
              "      <td>4177</td>\n",
              "      <td>4177</td>\n",
              "      <td>4177</td>\n",
              "      <td>4177</td>\n",
              "      <td>4177</td>\n",
              "      <td>4177</td>\n",
              "      <td>...</td>\n",
              "      <td>4177</td>\n",
              "      <td>3405</td>\n",
              "      <td>374</td>\n",
              "      <td>4177</td>\n",
              "      <td>4177</td>\n",
              "      <td>4177</td>\n",
              "      <td>4177</td>\n",
              "      <td>4177</td>\n",
              "      <td>4177</td>\n",
              "      <td>4177</td>\n",
              "    </tr>\n",
              "    <tr>\n",
              "      <th rowspan=\"2\" valign=\"top\">January</th>\n",
              "      <th>2016</th>\n",
              "      <td>2248</td>\n",
              "      <td>2248</td>\n",
              "      <td>2248</td>\n",
              "      <td>2248</td>\n",
              "      <td>2248</td>\n",
              "      <td>2248</td>\n",
              "      <td>2248</td>\n",
              "      <td>2248</td>\n",
              "      <td>2248</td>\n",
              "      <td>2248</td>\n",
              "      <td>...</td>\n",
              "      <td>2248</td>\n",
              "      <td>1784</td>\n",
              "      <td>163</td>\n",
              "      <td>2248</td>\n",
              "      <td>2248</td>\n",
              "      <td>2248</td>\n",
              "      <td>2248</td>\n",
              "      <td>2248</td>\n",
              "      <td>2248</td>\n",
              "      <td>2248</td>\n",
              "    </tr>\n",
              "    <tr>\n",
              "      <th>2017</th>\n",
              "      <td>3681</td>\n",
              "      <td>3681</td>\n",
              "      <td>3681</td>\n",
              "      <td>3681</td>\n",
              "      <td>3681</td>\n",
              "      <td>3681</td>\n",
              "      <td>3681</td>\n",
              "      <td>3681</td>\n",
              "      <td>3681</td>\n",
              "      <td>3681</td>\n",
              "      <td>...</td>\n",
              "      <td>3681</td>\n",
              "      <td>2779</td>\n",
              "      <td>376</td>\n",
              "      <td>3681</td>\n",
              "      <td>3681</td>\n",
              "      <td>3681</td>\n",
              "      <td>3681</td>\n",
              "      <td>3681</td>\n",
              "      <td>3681</td>\n",
              "      <td>3681</td>\n",
              "    </tr>\n",
              "    <tr>\n",
              "      <th rowspan=\"3\" valign=\"top\">July</th>\n",
              "      <th>2015</th>\n",
              "      <td>2776</td>\n",
              "      <td>2776</td>\n",
              "      <td>2776</td>\n",
              "      <td>2776</td>\n",
              "      <td>2776</td>\n",
              "      <td>2776</td>\n",
              "      <td>2776</td>\n",
              "      <td>2776</td>\n",
              "      <td>2776</td>\n",
              "      <td>2776</td>\n",
              "      <td>...</td>\n",
              "      <td>2776</td>\n",
              "      <td>2569</td>\n",
              "      <td>25</td>\n",
              "      <td>2776</td>\n",
              "      <td>2776</td>\n",
              "      <td>2776</td>\n",
              "      <td>2776</td>\n",
              "      <td>2776</td>\n",
              "      <td>2776</td>\n",
              "      <td>2776</td>\n",
              "    </tr>\n",
              "    <tr>\n",
              "      <th>2016</th>\n",
              "      <td>4572</td>\n",
              "      <td>4572</td>\n",
              "      <td>4572</td>\n",
              "      <td>4572</td>\n",
              "      <td>4572</td>\n",
              "      <td>4572</td>\n",
              "      <td>4572</td>\n",
              "      <td>4572</td>\n",
              "      <td>4572</td>\n",
              "      <td>4572</td>\n",
              "      <td>...</td>\n",
              "      <td>4572</td>\n",
              "      <td>4171</td>\n",
              "      <td>159</td>\n",
              "      <td>4572</td>\n",
              "      <td>4572</td>\n",
              "      <td>4572</td>\n",
              "      <td>4572</td>\n",
              "      <td>4572</td>\n",
              "      <td>4572</td>\n",
              "      <td>4572</td>\n",
              "    </tr>\n",
              "    <tr>\n",
              "      <th>2017</th>\n",
              "      <td>5313</td>\n",
              "      <td>5313</td>\n",
              "      <td>5313</td>\n",
              "      <td>5313</td>\n",
              "      <td>5313</td>\n",
              "      <td>5313</td>\n",
              "      <td>5313</td>\n",
              "      <td>5313</td>\n",
              "      <td>5313</td>\n",
              "      <td>5313</td>\n",
              "      <td>...</td>\n",
              "      <td>5313</td>\n",
              "      <td>4864</td>\n",
              "      <td>116</td>\n",
              "      <td>5313</td>\n",
              "      <td>5313</td>\n",
              "      <td>5313</td>\n",
              "      <td>5313</td>\n",
              "      <td>5313</td>\n",
              "      <td>5313</td>\n",
              "      <td>5313</td>\n",
              "    </tr>\n",
              "    <tr>\n",
              "      <th rowspan=\"2\" valign=\"top\">June</th>\n",
              "      <th>2016</th>\n",
              "      <td>5292</td>\n",
              "      <td>5292</td>\n",
              "      <td>5292</td>\n",
              "      <td>5292</td>\n",
              "      <td>5292</td>\n",
              "      <td>5292</td>\n",
              "      <td>5292</td>\n",
              "      <td>5292</td>\n",
              "      <td>5292</td>\n",
              "      <td>5292</td>\n",
              "      <td>...</td>\n",
              "      <td>5292</td>\n",
              "      <td>4863</td>\n",
              "      <td>166</td>\n",
              "      <td>5292</td>\n",
              "      <td>5292</td>\n",
              "      <td>5292</td>\n",
              "      <td>5292</td>\n",
              "      <td>5292</td>\n",
              "      <td>5292</td>\n",
              "      <td>5292</td>\n",
              "    </tr>\n",
              "    <tr>\n",
              "      <th>2017</th>\n",
              "      <td>5647</td>\n",
              "      <td>5647</td>\n",
              "      <td>5647</td>\n",
              "      <td>5647</td>\n",
              "      <td>5647</td>\n",
              "      <td>5647</td>\n",
              "      <td>5647</td>\n",
              "      <td>5647</td>\n",
              "      <td>5647</td>\n",
              "      <td>5647</td>\n",
              "      <td>...</td>\n",
              "      <td>5647</td>\n",
              "      <td>4943</td>\n",
              "      <td>265</td>\n",
              "      <td>5647</td>\n",
              "      <td>5647</td>\n",
              "      <td>5647</td>\n",
              "      <td>5647</td>\n",
              "      <td>5647</td>\n",
              "      <td>5647</td>\n",
              "      <td>5647</td>\n",
              "    </tr>\n",
              "    <tr>\n",
              "      <th rowspan=\"2\" valign=\"top\">March</th>\n",
              "      <th>2016</th>\n",
              "      <td>4824</td>\n",
              "      <td>4824</td>\n",
              "      <td>4824</td>\n",
              "      <td>4824</td>\n",
              "      <td>4824</td>\n",
              "      <td>4824</td>\n",
              "      <td>4824</td>\n",
              "      <td>4824</td>\n",
              "      <td>4824</td>\n",
              "      <td>4824</td>\n",
              "      <td>...</td>\n",
              "      <td>4824</td>\n",
              "      <td>4046</td>\n",
              "      <td>354</td>\n",
              "      <td>4824</td>\n",
              "      <td>4824</td>\n",
              "      <td>4824</td>\n",
              "      <td>4824</td>\n",
              "      <td>4824</td>\n",
              "      <td>4824</td>\n",
              "      <td>4824</td>\n",
              "    </tr>\n",
              "    <tr>\n",
              "      <th>2017</th>\n",
              "      <td>4970</td>\n",
              "      <td>4970</td>\n",
              "      <td>4970</td>\n",
              "      <td>4970</td>\n",
              "      <td>4970</td>\n",
              "      <td>4970</td>\n",
              "      <td>4970</td>\n",
              "      <td>4970</td>\n",
              "      <td>4970</td>\n",
              "      <td>4970</td>\n",
              "      <td>...</td>\n",
              "      <td>4970</td>\n",
              "      <td>4103</td>\n",
              "      <td>377</td>\n",
              "      <td>4970</td>\n",
              "      <td>4970</td>\n",
              "      <td>4970</td>\n",
              "      <td>4970</td>\n",
              "      <td>4970</td>\n",
              "      <td>4970</td>\n",
              "      <td>4970</td>\n",
              "    </tr>\n",
              "    <tr>\n",
              "      <th rowspan=\"2\" valign=\"top\">May</th>\n",
              "      <th>2016</th>\n",
              "      <td>5478</td>\n",
              "      <td>5478</td>\n",
              "      <td>5478</td>\n",
              "      <td>5478</td>\n",
              "      <td>5478</td>\n",
              "      <td>5478</td>\n",
              "      <td>5478</td>\n",
              "      <td>5478</td>\n",
              "      <td>5478</td>\n",
              "      <td>5478</td>\n",
              "      <td>...</td>\n",
              "      <td>5478</td>\n",
              "      <td>4697</td>\n",
              "      <td>464</td>\n",
              "      <td>5478</td>\n",
              "      <td>5478</td>\n",
              "      <td>5478</td>\n",
              "      <td>5478</td>\n",
              "      <td>5478</td>\n",
              "      <td>5478</td>\n",
              "      <td>5478</td>\n",
              "    </tr>\n",
              "    <tr>\n",
              "      <th>2017</th>\n",
              "      <td>6313</td>\n",
              "      <td>6313</td>\n",
              "      <td>6313</td>\n",
              "      <td>6313</td>\n",
              "      <td>6313</td>\n",
              "      <td>6313</td>\n",
              "      <td>6313</td>\n",
              "      <td>6313</td>\n",
              "      <td>6313</td>\n",
              "      <td>6313</td>\n",
              "      <td>...</td>\n",
              "      <td>6313</td>\n",
              "      <td>5392</td>\n",
              "      <td>348</td>\n",
              "      <td>6313</td>\n",
              "      <td>6313</td>\n",
              "      <td>6313</td>\n",
              "      <td>6313</td>\n",
              "      <td>6313</td>\n",
              "      <td>6313</td>\n",
              "      <td>6313</td>\n",
              "    </tr>\n",
              "    <tr>\n",
              "      <th rowspan=\"2\" valign=\"top\">November</th>\n",
              "      <th>2015</th>\n",
              "      <td>2340</td>\n",
              "      <td>2340</td>\n",
              "      <td>2340</td>\n",
              "      <td>2340</td>\n",
              "      <td>2340</td>\n",
              "      <td>2340</td>\n",
              "      <td>2340</td>\n",
              "      <td>2340</td>\n",
              "      <td>2340</td>\n",
              "      <td>2340</td>\n",
              "      <td>...</td>\n",
              "      <td>2340</td>\n",
              "      <td>1856</td>\n",
              "      <td>421</td>\n",
              "      <td>2340</td>\n",
              "      <td>2340</td>\n",
              "      <td>2340</td>\n",
              "      <td>2340</td>\n",
              "      <td>2340</td>\n",
              "      <td>2340</td>\n",
              "      <td>2340</td>\n",
              "    </tr>\n",
              "    <tr>\n",
              "      <th>2016</th>\n",
              "      <td>4454</td>\n",
              "      <td>4454</td>\n",
              "      <td>4454</td>\n",
              "      <td>4454</td>\n",
              "      <td>4454</td>\n",
              "      <td>4454</td>\n",
              "      <td>4454</td>\n",
              "      <td>4454</td>\n",
              "      <td>4454</td>\n",
              "      <td>4454</td>\n",
              "      <td>...</td>\n",
              "      <td>4454</td>\n",
              "      <td>3553</td>\n",
              "      <td>360</td>\n",
              "      <td>4454</td>\n",
              "      <td>4454</td>\n",
              "      <td>4454</td>\n",
              "      <td>4454</td>\n",
              "      <td>4454</td>\n",
              "      <td>4454</td>\n",
              "      <td>4454</td>\n",
              "    </tr>\n",
              "    <tr>\n",
              "      <th rowspan=\"2\" valign=\"top\">October</th>\n",
              "      <th>2015</th>\n",
              "      <td>4957</td>\n",
              "      <td>4957</td>\n",
              "      <td>4957</td>\n",
              "      <td>4957</td>\n",
              "      <td>4957</td>\n",
              "      <td>4957</td>\n",
              "      <td>4957</td>\n",
              "      <td>4957</td>\n",
              "      <td>4957</td>\n",
              "      <td>4957</td>\n",
              "      <td>...</td>\n",
              "      <td>4957</td>\n",
              "      <td>4183</td>\n",
              "      <td>307</td>\n",
              "      <td>4957</td>\n",
              "      <td>4957</td>\n",
              "      <td>4957</td>\n",
              "      <td>4957</td>\n",
              "      <td>4957</td>\n",
              "      <td>4957</td>\n",
              "      <td>4957</td>\n",
              "    </tr>\n",
              "    <tr>\n",
              "      <th>2016</th>\n",
              "      <td>6203</td>\n",
              "      <td>6203</td>\n",
              "      <td>6203</td>\n",
              "      <td>6203</td>\n",
              "      <td>6203</td>\n",
              "      <td>6203</td>\n",
              "      <td>6203</td>\n",
              "      <td>6203</td>\n",
              "      <td>6203</td>\n",
              "      <td>6203</td>\n",
              "      <td>...</td>\n",
              "      <td>6203</td>\n",
              "      <td>5278</td>\n",
              "      <td>400</td>\n",
              "      <td>6203</td>\n",
              "      <td>6203</td>\n",
              "      <td>6203</td>\n",
              "      <td>6203</td>\n",
              "      <td>6203</td>\n",
              "      <td>6203</td>\n",
              "      <td>6203</td>\n",
              "    </tr>\n",
              "    <tr>\n",
              "      <th rowspan=\"2\" valign=\"top\">September</th>\n",
              "      <th>2015</th>\n",
              "      <td>5114</td>\n",
              "      <td>5114</td>\n",
              "      <td>5114</td>\n",
              "      <td>5114</td>\n",
              "      <td>5114</td>\n",
              "      <td>5114</td>\n",
              "      <td>5114</td>\n",
              "      <td>5114</td>\n",
              "      <td>5114</td>\n",
              "      <td>5114</td>\n",
              "      <td>...</td>\n",
              "      <td>5114</td>\n",
              "      <td>4565</td>\n",
              "      <td>240</td>\n",
              "      <td>5114</td>\n",
              "      <td>5114</td>\n",
              "      <td>5114</td>\n",
              "      <td>5114</td>\n",
              "      <td>5114</td>\n",
              "      <td>5114</td>\n",
              "      <td>5114</td>\n",
              "    </tr>\n",
              "    <tr>\n",
              "      <th>2016</th>\n",
              "      <td>5394</td>\n",
              "      <td>5394</td>\n",
              "      <td>5394</td>\n",
              "      <td>5394</td>\n",
              "      <td>5394</td>\n",
              "      <td>5394</td>\n",
              "      <td>5394</td>\n",
              "      <td>5394</td>\n",
              "      <td>5394</td>\n",
              "      <td>5394</td>\n",
              "      <td>...</td>\n",
              "      <td>5394</td>\n",
              "      <td>4872</td>\n",
              "      <td>261</td>\n",
              "      <td>5394</td>\n",
              "      <td>5394</td>\n",
              "      <td>5394</td>\n",
              "      <td>5394</td>\n",
              "      <td>5394</td>\n",
              "      <td>5394</td>\n",
              "      <td>5394</td>\n",
              "    </tr>\n",
              "  </tbody>\n",
              "</table>\n",
              "<p>26 rows × 30 columns</p>\n",
              "</div>\n",
              "      <button class=\"colab-df-convert\" onclick=\"convertToInteractive('df-5b4957de-f8ae-498a-9273-e67b8b9a275c')\"\n",
              "              title=\"Convert this dataframe to an interactive table.\"\n",
              "              style=\"display:none;\">\n",
              "        \n",
              "  <svg xmlns=\"http://www.w3.org/2000/svg\" height=\"24px\"viewBox=\"0 0 24 24\"\n",
              "       width=\"24px\">\n",
              "    <path d=\"M0 0h24v24H0V0z\" fill=\"none\"/>\n",
              "    <path d=\"M18.56 5.44l.94 2.06.94-2.06 2.06-.94-2.06-.94-.94-2.06-.94 2.06-2.06.94zm-11 1L8.5 8.5l.94-2.06 2.06-.94-2.06-.94L8.5 2.5l-.94 2.06-2.06.94zm10 10l.94 2.06.94-2.06 2.06-.94-2.06-.94-.94-2.06-.94 2.06-2.06.94z\"/><path d=\"M17.41 7.96l-1.37-1.37c-.4-.4-.92-.59-1.43-.59-.52 0-1.04.2-1.43.59L10.3 9.45l-7.72 7.72c-.78.78-.78 2.05 0 2.83L4 21.41c.39.39.9.59 1.41.59.51 0 1.02-.2 1.41-.59l7.78-7.78 2.81-2.81c.8-.78.8-2.07 0-2.86zM5.41 20L4 18.59l7.72-7.72 1.47 1.35L5.41 20z\"/>\n",
              "  </svg>\n",
              "      </button>\n",
              "      \n",
              "  <style>\n",
              "    .colab-df-container {\n",
              "      display:flex;\n",
              "      flex-wrap:wrap;\n",
              "      gap: 12px;\n",
              "    }\n",
              "\n",
              "    .colab-df-convert {\n",
              "      background-color: #E8F0FE;\n",
              "      border: none;\n",
              "      border-radius: 50%;\n",
              "      cursor: pointer;\n",
              "      display: none;\n",
              "      fill: #1967D2;\n",
              "      height: 32px;\n",
              "      padding: 0 0 0 0;\n",
              "      width: 32px;\n",
              "    }\n",
              "\n",
              "    .colab-df-convert:hover {\n",
              "      background-color: #E2EBFA;\n",
              "      box-shadow: 0px 1px 2px rgba(60, 64, 67, 0.3), 0px 1px 3px 1px rgba(60, 64, 67, 0.15);\n",
              "      fill: #174EA6;\n",
              "    }\n",
              "\n",
              "    [theme=dark] .colab-df-convert {\n",
              "      background-color: #3B4455;\n",
              "      fill: #D2E3FC;\n",
              "    }\n",
              "\n",
              "    [theme=dark] .colab-df-convert:hover {\n",
              "      background-color: #434B5C;\n",
              "      box-shadow: 0px 1px 3px 1px rgba(0, 0, 0, 0.15);\n",
              "      filter: drop-shadow(0px 1px 2px rgba(0, 0, 0, 0.3));\n",
              "      fill: #FFFFFF;\n",
              "    }\n",
              "  </style>\n",
              "\n",
              "      <script>\n",
              "        const buttonEl =\n",
              "          document.querySelector('#df-5b4957de-f8ae-498a-9273-e67b8b9a275c button.colab-df-convert');\n",
              "        buttonEl.style.display =\n",
              "          google.colab.kernel.accessAllowed ? 'block' : 'none';\n",
              "\n",
              "        async function convertToInteractive(key) {\n",
              "          const element = document.querySelector('#df-5b4957de-f8ae-498a-9273-e67b8b9a275c');\n",
              "          const dataTable =\n",
              "            await google.colab.kernel.invokeFunction('convertToInteractive',\n",
              "                                                     [key], {});\n",
              "          if (!dataTable) return;\n",
              "\n",
              "          const docLinkHtml = 'Like what you see? Visit the ' +\n",
              "            '<a target=\"_blank\" href=https://colab.research.google.com/notebooks/data_table.ipynb>data table notebook</a>'\n",
              "            + ' to learn more about interactive tables.';\n",
              "          element.innerHTML = '';\n",
              "          dataTable['output_type'] = 'display_data';\n",
              "          await google.colab.output.renderOutput(dataTable, element);\n",
              "          const docLink = document.createElement('div');\n",
              "          docLink.innerHTML = docLinkHtml;\n",
              "          element.appendChild(docLink);\n",
              "        }\n",
              "      </script>\n",
              "    </div>\n",
              "  </div>\n",
              "  "
            ]
          },
          "metadata": {},
          "execution_count": 10
        }
      ]
    },
    {
      "cell_type": "code",
      "source": [
        "df.info()"
      ],
      "metadata": {
        "colab": {
          "base_uri": "https://localhost:8080/"
        },
        "id": "K_utQ1ujf_RR",
        "outputId": "21c0387d-a48d-4803-cb32-e3a238a19af6"
      },
      "execution_count": null,
      "outputs": [
        {
          "output_type": "stream",
          "name": "stdout",
          "text": [
            "<class 'pandas.core.frame.DataFrame'>\n",
            "RangeIndex: 119390 entries, 0 to 119389\n",
            "Data columns (total 32 columns):\n",
            " #   Column                          Non-Null Count   Dtype  \n",
            "---  ------                          --------------   -----  \n",
            " 0   hotel                           119390 non-null  object \n",
            " 1   is_canceled                     119390 non-null  int64  \n",
            " 2   lead_time                       119390 non-null  int64  \n",
            " 3   arrival_date_year               119390 non-null  int64  \n",
            " 4   arrival_date_month              119390 non-null  object \n",
            " 5   arrival_date_week_number        119390 non-null  int64  \n",
            " 6   arrival_date_day_of_month       119390 non-null  int64  \n",
            " 7   stays_in_weekend_nights         119390 non-null  int64  \n",
            " 8   stays_in_week_nights            119390 non-null  int64  \n",
            " 9   adults                          119390 non-null  int64  \n",
            " 10  children                        119386 non-null  float64\n",
            " 11  babies                          119390 non-null  int64  \n",
            " 12  meal                            119390 non-null  object \n",
            " 13  country                         118902 non-null  object \n",
            " 14  market_segment                  119390 non-null  object \n",
            " 15  distribution_channel            119390 non-null  object \n",
            " 16  is_repeated_guest               119390 non-null  int64  \n",
            " 17  previous_cancellations          119390 non-null  int64  \n",
            " 18  previous_bookings_not_canceled  119390 non-null  int64  \n",
            " 19  reserved_room_type              119390 non-null  object \n",
            " 20  assigned_room_type              119390 non-null  object \n",
            " 21  booking_changes                 119390 non-null  int64  \n",
            " 22  deposit_type                    119390 non-null  object \n",
            " 23  agent                           103050 non-null  float64\n",
            " 24  company                         6797 non-null    float64\n",
            " 25  days_in_waiting_list            119390 non-null  int64  \n",
            " 26  customer_type                   119390 non-null  object \n",
            " 27  adr                             119390 non-null  float64\n",
            " 28  required_car_parking_spaces     119390 non-null  int64  \n",
            " 29  total_of_special_requests       119390 non-null  int64  \n",
            " 30  reservation_status              119390 non-null  object \n",
            " 31  reservation_status_date         119390 non-null  object \n",
            "dtypes: float64(4), int64(16), object(12)\n",
            "memory usage: 29.1+ MB\n"
          ]
        }
      ]
    },
    {
      "cell_type": "markdown",
      "source": [
        "##Cleaning the Dataset"
      ],
      "metadata": {
        "id": "MIaugAZ2_oxm"
      }
    },
    {
      "cell_type": "code",
      "source": [
        "df.shape"
      ],
      "metadata": {
        "colab": {
          "base_uri": "https://localhost:8080/"
        },
        "id": "OKqk4-m0AsJA",
        "outputId": "5bb71224-bd3a-4aa5-ced5-25ce750a5073"
      },
      "execution_count": null,
      "outputs": [
        {
          "output_type": "execute_result",
          "data": {
            "text/plain": [
              "(119390, 32)"
            ]
          },
          "metadata": {},
          "execution_count": 76
        }
      ]
    },
    {
      "cell_type": "code",
      "source": [
        "# drop the duplicates\n",
        "df.drop_duplicates(inplace = True)"
      ],
      "metadata": {
        "id": "tRdWR9KCw9EM"
      },
      "execution_count": null,
      "outputs": []
    },
    {
      "cell_type": "code",
      "source": [
        "df.shape"
      ],
      "metadata": {
        "id": "u4UJs8YPxo1Z",
        "outputId": "08cba57c-8a37-4cb1-d5e1-ff81f29cf4d7",
        "colab": {
          "base_uri": "https://localhost:8080/"
        }
      },
      "execution_count": null,
      "outputs": [
        {
          "output_type": "execute_result",
          "data": {
            "text/plain": [
              "(87396, 32)"
            ]
          },
          "metadata": {},
          "execution_count": 78
        }
      ]
    },
    {
      "cell_type": "code",
      "source": [
        "# storing the selected columns for further analysis\n",
        "selected_columns= ['hotel', 'is_canceled', 'lead_time', 'arrival_date_year',\n",
        "       'arrival_date_month', 'arrival_date_week_number',\n",
        "       'arrival_date_day_of_month', 'stays_in_weekend_nights',\n",
        "       'stays_in_week_nights', 'adults', 'children', 'meal',\n",
        "       'country', 'market_segment', 'distribution_channel',\n",
        "       'is_repeated_guest', 'previous_cancellations',\n",
        "       'previous_bookings_not_canceled', 'reserved_room_type',\n",
        "       'assigned_room_type', 'deposit_type', 'customer_type', 'adr',\n",
        "       'required_car_parking_spaces', 'total_of_special_requests']"
      ],
      "metadata": {
        "id": "4HBMKR19gogw"
      },
      "execution_count": null,
      "outputs": []
    },
    {
      "cell_type": "code",
      "source": [
        "# assigning selected columns to new variable\n",
        "bookings_df = df[selected_columns].copy()"
      ],
      "metadata": {
        "id": "kEcVFpJ4grmI"
      },
      "execution_count": null,
      "outputs": []
    },
    {
      "cell_type": "code",
      "source": [
        "# checking for null values\n",
        "bookings_df.isnull().sum()"
      ],
      "metadata": {
        "colab": {
          "base_uri": "https://localhost:8080/"
        },
        "id": "e95_nWL5gj5a",
        "outputId": "70ae767e-91c1-4c40-871d-77cdd6b595e2"
      },
      "execution_count": null,
      "outputs": [
        {
          "output_type": "execute_result",
          "data": {
            "text/plain": [
              "hotel                               0\n",
              "is_canceled                         0\n",
              "lead_time                           0\n",
              "arrival_date_year                   0\n",
              "arrival_date_month                  0\n",
              "arrival_date_week_number            0\n",
              "arrival_date_day_of_month           0\n",
              "stays_in_weekend_nights             0\n",
              "stays_in_week_nights                0\n",
              "adults                              0\n",
              "children                            4\n",
              "meal                                0\n",
              "country                           452\n",
              "market_segment                      0\n",
              "distribution_channel                0\n",
              "is_repeated_guest                   0\n",
              "previous_cancellations              0\n",
              "previous_bookings_not_canceled      0\n",
              "reserved_room_type                  0\n",
              "assigned_room_type                  0\n",
              "deposit_type                        0\n",
              "customer_type                       0\n",
              "adr                                 0\n",
              "required_car_parking_spaces         0\n",
              "total_of_special_requests           0\n",
              "dtype: int64"
            ]
          },
          "metadata": {},
          "execution_count": 81
        }
      ]
    },
    {
      "cell_type": "markdown",
      "source": [
        "##We can see the null values through heat map also."
      ],
      "metadata": {
        "id": "fMSiw1vCxLMk"
      }
    },
    {
      "cell_type": "code",
      "source": [
        "# heatmap showing null values\n",
        "plt.figure(figsize=(20,6))\n",
        "sns.heatmap(bookings_df.isnull(),cmap='viridis')"
      ],
      "metadata": {
        "colab": {
          "base_uri": "https://localhost:8080/",
          "height": 550
        },
        "id": "bwR_wQHixMQR",
        "outputId": "2b1e2c4b-f35f-44f2-d29e-7c710ebf1c6e"
      },
      "execution_count": null,
      "outputs": [
        {
          "output_type": "execute_result",
          "data": {
            "text/plain": [
              "<matplotlib.axes._subplots.AxesSubplot at 0x7f4ae54d37d0>"
            ]
          },
          "metadata": {},
          "execution_count": 82
        },
        {
          "output_type": "display_data",
          "data": {
            "text/plain": [
              "<Figure size 1440x432 with 2 Axes>"
            ],
            "image/png": "[encoded data removed]"
          },
          "metadata": {}
        }
      ]
    },
    {
      "cell_type": "code",
      "source": [
        "# handeling null values\n",
        "bookings_df['children'].fillna(0,inplace=True)\n",
        "bookings_df['country'].fillna('XYZ',inplace=True)\n",
        "bookings_df['children'] = bookings_df['children'].astype(int)"
      ],
      "metadata": {
        "id": "FRZfmNlxghoI"
      },
      "execution_count": null,
      "outputs": []
    },
    {
      "cell_type": "code",
      "source": [
        "# merge adults and children columns to get total number of guests\n",
        "bookings_df['Total_Guests'] = bookings_df['adults'] + bookings_df['children']"
      ],
      "metadata": {
        "id": "kV1wtj8ohFF9"
      },
      "execution_count": null,
      "outputs": []
    },
    {
      "cell_type": "code",
      "source": [
        "# drop adults and children column as these columns will not be used further\n",
        "bookings_df = bookings_df.drop(['adults', 'children'], axis=1)"
      ],
      "metadata": {
        "id": "EN9xgd8ShgYc"
      },
      "execution_count": null,
      "outputs": []
    },
    {
      "cell_type": "code",
      "source": [
        "# exclude rows having 0 guests in Total_Guests column\n",
        "bookings_df= bookings_df[bookings_df.Total_Guests > 0]"
      ],
      "metadata": {
        "id": "HdMel_dIhnNJ"
      },
      "execution_count": null,
      "outputs": []
    },
    {
      "cell_type": "code",
      "source": [
        "bookings_df.head()"
      ],
      "metadata": {
        "colab": {
          "base_uri": "https://localhost:8080/",
          "height": 386
        },
        "id": "kMQxJdrzh1dJ",
        "outputId": "7041ce0b-f50c-44b0-f9ae-e0bfb866b71e"
      },
      "execution_count": null,
      "outputs": [
        {
          "output_type": "execute_result",
          "data": {
            "text/plain": [
              "          hotel  is_canceled  lead_time  arrival_date_year arrival_date_month  \\\n",
              "0  Resort Hotel            0        342               2015               July   \n",
              "1  Resort Hotel            0        737               2015               July   \n",
              "2  Resort Hotel            0          7               2015               July   \n",
              "3  Resort Hotel            0         13               2015               July   \n",
              "4  Resort Hotel            0         14               2015               July   \n",
              "\n",
              "   arrival_date_week_number  arrival_date_day_of_month  \\\n",
              "0                        27                          1   \n",
              "1                        27                          1   \n",
              "2                        27                          1   \n",
              "3                        27                          1   \n",
              "4                        27                          1   \n",
              "\n",
              "   stays_in_weekend_nights  stays_in_week_nights meal  ...  \\\n",
              "0                        0                     0   BB  ...   \n",
              "1                        0                     0   BB  ...   \n",
              "2                        0                     1   BB  ...   \n",
              "3                        0                     1   BB  ...   \n",
              "4                        0                     2   BB  ...   \n",
              "\n",
              "  previous_cancellations previous_bookings_not_canceled reserved_room_type  \\\n",
              "0                      0                              0                  C   \n",
              "1                      0                              0                  C   \n",
              "2                      0                              0                  A   \n",
              "3                      0                              0                  A   \n",
              "4                      0                              0                  A   \n",
              "\n",
              "   assigned_room_type  deposit_type  customer_type   adr  \\\n",
              "0                   C    No Deposit      Transient   0.0   \n",
              "1                   C    No Deposit      Transient   0.0   \n",
              "2                   C    No Deposit      Transient  75.0   \n",
              "3                   A    No Deposit      Transient  75.0   \n",
              "4                   A    No Deposit      Transient  98.0   \n",
              "\n",
              "  required_car_parking_spaces total_of_special_requests Total_Guests  \n",
              "0                           0                         0            2  \n",
              "1                           0                         0            2  \n",
              "2                           0                         0            1  \n",
              "3                           0                         0            1  \n",
              "4                           0                         1            2  \n",
              "\n",
              "[5 rows x 24 columns]"
            ],
            "text/html": [
              "\n",
              "  <div id=\"df-050ad7b2-1eb6-4fca-af5b-07f6e92f3b9c\">\n",
              "    <div class=\"colab-df-container\">\n",
              "      <div>\n",
              "<style scoped>\n",
              "    .dataframe tbody tr th:only-of-type {\n",
              "        vertical-align: middle;\n",
              "    }\n",
              "\n",
              "    .dataframe tbody tr th {\n",
              "        vertical-align: top;\n",
              "    }\n",
              "\n",
              "    .dataframe thead th {\n",
              "        text-align: right;\n",
              "    }\n",
              "</style>\n",
              "<table border=\"1\" class=\"dataframe\">\n",
              "  <thead>\n",
              "    <tr style=\"text-align: right;\">\n",
              "      <th></th>\n",
              "      <th>hotel</th>\n",
              "      <th>is_canceled</th>\n",
              "      <th>lead_time</th>\n",
              "      <th>arrival_date_year</th>\n",
              "      <th>arrival_date_month</th>\n",
              "      <th>arrival_date_week_number</th>\n",
              "      <th>arrival_date_day_of_month</th>\n",
              "      <th>stays_in_weekend_nights</th>\n",
              "      <th>stays_in_week_nights</th>\n",
              "      <th>meal</th>\n",
              "      <th>...</th>\n",
              "      <th>previous_cancellations</th>\n",
              "      <th>previous_bookings_not_canceled</th>\n",
              "      <th>reserved_room_type</th>\n",
              "      <th>assigned_room_type</th>\n",
              "      <th>deposit_type</th>\n",
              "      <th>customer_type</th>\n",
              "      <th>adr</th>\n",
              "      <th>required_car_parking_spaces</th>\n",
              "      <th>total_of_special_requests</th>\n",
              "      <th>Total_Guests</th>\n",
              "    </tr>\n",
              "  </thead>\n",
              "  <tbody>\n",
              "    <tr>\n",
              "      <th>0</th>\n",
              "      <td>Resort Hotel</td>\n",
              "      <td>0</td>\n",
              "      <td>342</td>\n",
              "      <td>2015</td>\n",
              "      <td>July</td>\n",
              "      <td>27</td>\n",
              "      <td>1</td>\n",
              "      <td>0</td>\n",
              "      <td>0</td>\n",
              "      <td>BB</td>\n",
              "      <td>...</td>\n",
              "      <td>0</td>\n",
              "      <td>0</td>\n",
              "      <td>C</td>\n",
              "      <td>C</td>\n",
              "      <td>No Deposit</td>\n",
              "      <td>Transient</td>\n",
              "      <td>0.0</td>\n",
              "      <td>0</td>\n",
              "      <td>0</td>\n",
              "      <td>2</td>\n",
              "    </tr>\n",
              "    <tr>\n",
              "      <th>1</th>\n",
              "      <td>Resort Hotel</td>\n",
              "      <td>0</td>\n",
              "      <td>737</td>\n",
              "      <td>2015</td>\n",
              "      <td>July</td>\n",
              "      <td>27</td>\n",
              "      <td>1</td>\n",
              "      <td>0</td>\n",
              "      <td>0</td>\n",
              "      <td>BB</td>\n",
              "      <td>...</td>\n",
              "      <td>0</td>\n",
              "      <td>0</td>\n",
              "      <td>C</td>\n",
              "      <td>C</td>\n",
              "      <td>No Deposit</td>\n",
              "      <td>Transient</td>\n",
              "      <td>0.0</td>\n",
              "      <td>0</td>\n",
              "      <td>0</td>\n",
              "      <td>2</td>\n",
              "    </tr>\n",
              "    <tr>\n",
              "      <th>2</th>\n",
              "      <td>Resort Hotel</td>\n",
              "      <td>0</td>\n",
              "      <td>7</td>\n",
              "      <td>2015</td>\n",
              "      <td>July</td>\n",
              "      <td>27</td>\n",
              "      <td>1</td>\n",
              "      <td>0</td>\n",
              "      <td>1</td>\n",
              "      <td>BB</td>\n",
              "      <td>...</td>\n",
              "      <td>0</td>\n",
              "      <td>0</td>\n",
              "      <td>A</td>\n",
              "      <td>C</td>\n",
              "      <td>No Deposit</td>\n",
              "      <td>Transient</td>\n",
              "      <td>75.0</td>\n",
              "      <td>0</td>\n",
              "      <td>0</td>\n",
              "      <td>1</td>\n",
              "    </tr>\n",
              "    <tr>\n",
              "      <th>3</th>\n",
              "      <td>Resort Hotel</td>\n",
              "      <td>0</td>\n",
              "      <td>13</td>\n",
              "      <td>2015</td>\n",
              "      <td>July</td>\n",
              "      <td>27</td>\n",
              "      <td>1</td>\n",
              "      <td>0</td>\n",
              "      <td>1</td>\n",
              "      <td>BB</td>\n",
              "      <td>...</td>\n",
              "      <td>0</td>\n",
              "      <td>0</td>\n",
              "      <td>A</td>\n",
              "      <td>A</td>\n",
              "      <td>No Deposit</td>\n",
              "      <td>Transient</td>\n",
              "      <td>75.0</td>\n",
              "      <td>0</td>\n",
              "      <td>0</td>\n",
              "      <td>1</td>\n",
              "    </tr>\n",
              "    <tr>\n",
              "      <th>4</th>\n",
              "      <td>Resort Hotel</td>\n",
              "      <td>0</td>\n",
              "      <td>14</td>\n",
              "      <td>2015</td>\n",
              "      <td>July</td>\n",
              "      <td>27</td>\n",
              "      <td>1</td>\n",
              "      <td>0</td>\n",
              "      <td>2</td>\n",
              "      <td>BB</td>\n",
              "      <td>...</td>\n",
              "      <td>0</td>\n",
              "      <td>0</td>\n",
              "      <td>A</td>\n",
              "      <td>A</td>\n",
              "      <td>No Deposit</td>\n",
              "      <td>Transient</td>\n",
              "      <td>98.0</td>\n",
              "      <td>0</td>\n",
              "      <td>1</td>\n",
              "      <td>2</td>\n",
              "    </tr>\n",
              "  </tbody>\n",
              "</table>\n",
              "<p>5 rows × 24 columns</p>\n",
              "</div>\n",
              "      <button class=\"colab-df-convert\" onclick=\"convertToInteractive('df-050ad7b2-1eb6-4fca-af5b-07f6e92f3b9c')\"\n",
              "              title=\"Convert this dataframe to an interactive table.\"\n",
              "              style=\"display:none;\">\n",
              "        \n",
              "  <svg xmlns=\"http://www.w3.org/2000/svg\" height=\"24px\"viewBox=\"0 0 24 24\"\n",
              "       width=\"24px\">\n",
              "    <path d=\"M0 0h24v24H0V0z\" fill=\"none\"/>\n",
              "    <path d=\"M18.56 5.44l.94 2.06.94-2.06 2.06-.94-2.06-.94-.94-2.06-.94 2.06-2.06.94zm-11 1L8.5 8.5l.94-2.06 2.06-.94-2.06-.94L8.5 2.5l-.94 2.06-2.06.94zm10 10l.94 2.06.94-2.06 2.06-.94-2.06-.94-.94-2.06-.94 2.06-2.06.94z\"/><path d=\"M17.41 7.96l-1.37-1.37c-.4-.4-.92-.59-1.43-.59-.52 0-1.04.2-1.43.59L10.3 9.45l-7.72 7.72c-.78.78-.78 2.05 0 2.83L4 21.41c.39.39.9.59 1.41.59.51 0 1.02-.2 1.41-.59l7.78-7.78 2.81-2.81c.8-.78.8-2.07 0-2.86zM5.41 20L4 18.59l7.72-7.72 1.47 1.35L5.41 20z\"/>\n",
              "  </svg>\n",
              "      </button>\n",
              "      \n",
              "  <style>\n",
              "    .colab-df-container {\n",
              "      display:flex;\n",
              "      flex-wrap:wrap;\n",
              "      gap: 12px;\n",
              "    }\n",
              "\n",
              "    .colab-df-convert {\n",
              "      background-color: #E8F0FE;\n",
              "      border: none;\n",
              "      border-radius: 50%;\n",
              "      cursor: pointer;\n",
              "      display: none;\n",
              "      fill: #1967D2;\n",
              "      height: 32px;\n",
              "      padding: 0 0 0 0;\n",
              "      width: 32px;\n",
              "    }\n",
              "\n",
              "    .colab-df-convert:hover {\n",
              "      background-color: #E2EBFA;\n",
              "      box-shadow: 0px 1px 2px rgba(60, 64, 67, 0.3), 0px 1px 3px 1px rgba(60, 64, 67, 0.15);\n",
              "      fill: #174EA6;\n",
              "    }\n",
              "\n",
              "    [theme=dark] .colab-df-convert {\n",
              "      background-color: #3B4455;\n",
              "      fill: #D2E3FC;\n",
              "    }\n",
              "\n",
              "    [theme=dark] .colab-df-convert:hover {\n",
              "      background-color: #434B5C;\n",
              "      box-shadow: 0px 1px 3px 1px rgba(0, 0, 0, 0.15);\n",
              "      filter: drop-shadow(0px 1px 2px rgba(0, 0, 0, 0.3));\n",
              "      fill: #FFFFFF;\n",
              "    }\n",
              "  </style>\n",
              "\n",
              "      <script>\n",
              "        const buttonEl =\n",
              "          document.querySelector('#df-050ad7b2-1eb6-4fca-af5b-07f6e92f3b9c button.colab-df-convert');\n",
              "        buttonEl.style.display =\n",
              "          google.colab.kernel.accessAllowed ? 'block' : 'none';\n",
              "\n",
              "        async function convertToInteractive(key) {\n",
              "          const element = document.querySelector('#df-050ad7b2-1eb6-4fca-af5b-07f6e92f3b9c');\n",
              "          const dataTable =\n",
              "            await google.colab.kernel.invokeFunction('convertToInteractive',\n",
              "                                                     [key], {});\n",
              "          if (!dataTable) return;\n",
              "\n",
              "          const docLinkHtml = 'Like what you see? Visit the ' +\n",
              "            '<a target=\"_blank\" href=https://colab.research.google.com/notebooks/data_table.ipynb>data table notebook</a>'\n",
              "            + ' to learn more about interactive tables.';\n",
              "          element.innerHTML = '';\n",
              "          dataTable['output_type'] = 'display_data';\n",
              "          await google.colab.output.renderOutput(dataTable, element);\n",
              "          const docLink = document.createElement('div');\n",
              "          docLink.innerHTML = docLinkHtml;\n",
              "          element.appendChild(docLink);\n",
              "        }\n",
              "      </script>\n",
              "    </div>\n",
              "  </div>\n",
              "  "
            ]
          },
          "metadata": {},
          "execution_count": 87
        }
      ]
    },
    {
      "cell_type": "markdown",
      "source": [
        "#**Exploratory Data Analysis**"
      ],
      "metadata": {
        "id": "1WzvlPtWVuo6"
      }
    },
    {
      "cell_type": "markdown",
      "source": [
        "##Histogram for Each Numerical Data Count"
      ],
      "metadata": {
        "id": "hNcYrZkW5VnK"
      }
    },
    {
      "cell_type": "code",
      "source": [
        "# plot histogram for each numerical data count\n",
        "bookings_df.hist(bins=50, figsize=(16,8))\n",
        "plt.tight_layout()\n",
        "plt.show()"
      ],
      "metadata": {
        "colab": {
          "base_uri": "https://localhost:8080/",
          "height": 585
        },
        "id": "usV0TH7Ovcld",
        "outputId": "79b38bbf-6b6b-4fcd-ae8c-816befe0aebf"
      },
      "execution_count": null,
      "outputs": [
        {
          "output_type": "display_data",
          "data": {
            "text/plain": [
              "<Figure size 1152x576 with 16 Axes>"
            ],
            "image/png": "[encoded data removed]"
          },
          "metadata": {}
        }
      ]
    },
    {
      "cell_type": "code",
      "source": [
        "# correlation\n",
        "plt.figure(figsize = (15,7))\n",
        "correlation = bookings_df.corr()\n",
        "sns.heatmap(correlation, annot = True, cmap = 'icefire')"
      ],
      "metadata": {
        "colab": {
          "base_uri": "https://localhost:8080/",
          "height": 603
        },
        "id": "631WFE6bc-c4",
        "outputId": "36ca1795-ca9e-4afc-b0f5-e8cdb1e77163"
      },
      "execution_count": null,
      "outputs": [
        {
          "output_type": "execute_result",
          "data": {
            "text/plain": [
              "<matplotlib.axes._subplots.AxesSubplot at 0x7f4ae3cd6d10>"
            ]
          },
          "metadata": {},
          "execution_count": 89
        },
        {
          "output_type": "display_data",
          "data": {
            "text/plain": [
              "<Figure size 1080x504 with 2 Axes>"
            ],
            "image/png": "[encoded data removed]"
          },
          "metadata": {}
        }
      ]
    },
    {
      "cell_type": "markdown",
      "source": [
        "##Separating and creating different datasets of both the hotel types.\n"
      ],
      "metadata": {
        "id": "gSjyjIUpjLl2"
      }
    },
    {
      "cell_type": "code",
      "source": [
        "# check unique values in 'hotel' column\n",
        "bookings_df['hotel'].unique()"
      ],
      "metadata": {
        "colab": {
          "base_uri": "https://localhost:8080/"
        },
        "id": "ko4LaSxdiT7Z",
        "outputId": "aedb059a-1c88-4ec7-db90-07a9daf48d27"
      },
      "execution_count": null,
      "outputs": [
        {
          "output_type": "execute_result",
          "data": {
            "text/plain": [
              "array(['Resort Hotel', 'City Hotel'], dtype=object)"
            ]
          },
          "metadata": {},
          "execution_count": 90
        }
      ]
    },
    {
      "cell_type": "code",
      "source": [
        "# select only those rows which do not have booking cancellations.\n",
        "df= bookings_df[bookings_df.is_canceled == 0]\n",
        "df.sample()"
      ],
      "metadata": {
        "colab": {
          "base_uri": "https://localhost:8080/",
          "height": 191
        },
        "id": "RZzUDvfnimZ0",
        "outputId": "fe6971ca-f078-4196-ce4e-8832baa624a1"
      },
      "execution_count": null,
      "outputs": [
        {
          "output_type": "execute_result",
          "data": {
            "text/plain": [
              "             hotel  is_canceled  lead_time  arrival_date_year  \\\n",
              "114633  City Hotel            0        251               2017   \n",
              "\n",
              "       arrival_date_month  arrival_date_week_number  \\\n",
              "114633               June                        25   \n",
              "\n",
              "        arrival_date_day_of_month  stays_in_weekend_nights  \\\n",
              "114633                         21                        0   \n",
              "\n",
              "        stays_in_week_nights meal  ... previous_cancellations  \\\n",
              "114633                     4   BB  ...                      0   \n",
              "\n",
              "       previous_bookings_not_canceled reserved_room_type  assigned_room_type  \\\n",
              "114633                              0                  D                   D   \n",
              "\n",
              "        deposit_type  customer_type     adr required_car_parking_spaces  \\\n",
              "114633    No Deposit      Transient  153.68                           0   \n",
              "\n",
              "       total_of_special_requests Total_Guests  \n",
              "114633                         1            3  \n",
              "\n",
              "[1 rows x 24 columns]"
            ],
            "text/html": [
              "\n",
              "  <div id=\"df-442e9451-0103-4fe2-98d6-930ca2b5d000\">\n",
              "    <div class=\"colab-df-container\">\n",
              "      <div>\n",
              "<style scoped>\n",
              "    .dataframe tbody tr th:only-of-type {\n",
              "        vertical-align: middle;\n",
              "    }\n",
              "\n",
              "    .dataframe tbody tr th {\n",
              "        vertical-align: top;\n",
              "    }\n",
              "\n",
              "    .dataframe thead th {\n",
              "        text-align: right;\n",
              "    }\n",
              "</style>\n",
              "<table border=\"1\" class=\"dataframe\">\n",
              "  <thead>\n",
              "    <tr style=\"text-align: right;\">\n",
              "      <th></th>\n",
              "      <th>hotel</th>\n",
              "      <th>is_canceled</th>\n",
              "      <th>lead_time</th>\n",
              "      <th>arrival_date_year</th>\n",
              "      <th>arrival_date_month</th>\n",
              "      <th>arrival_date_week_number</th>\n",
              "      <th>arrival_date_day_of_month</th>\n",
              "      <th>stays_in_weekend_nights</th>\n",
              "      <th>stays_in_week_nights</th>\n",
              "      <th>meal</th>\n",
              "      <th>...</th>\n",
              "      <th>previous_cancellations</th>\n",
              "      <th>previous_bookings_not_canceled</th>\n",
              "      <th>reserved_room_type</th>\n",
              "      <th>assigned_room_type</th>\n",
              "      <th>deposit_type</th>\n",
              "      <th>customer_type</th>\n",
              "      <th>adr</th>\n",
              "      <th>required_car_parking_spaces</th>\n",
              "      <th>total_of_special_requests</th>\n",
              "      <th>Total_Guests</th>\n",
              "    </tr>\n",
              "  </thead>\n",
              "  <tbody>\n",
              "    <tr>\n",
              "      <th>114633</th>\n",
              "      <td>City Hotel</td>\n",
              "      <td>0</td>\n",
              "      <td>251</td>\n",
              "      <td>2017</td>\n",
              "      <td>June</td>\n",
              "      <td>25</td>\n",
              "      <td>21</td>\n",
              "      <td>0</td>\n",
              "      <td>4</td>\n",
              "      <td>BB</td>\n",
              "      <td>...</td>\n",
              "      <td>0</td>\n",
              "      <td>0</td>\n",
              "      <td>D</td>\n",
              "      <td>D</td>\n",
              "      <td>No Deposit</td>\n",
              "      <td>Transient</td>\n",
              "      <td>153.68</td>\n",
              "      <td>0</td>\n",
              "      <td>1</td>\n",
              "      <td>3</td>\n",
              "    </tr>\n",
              "  </tbody>\n",
              "</table>\n",
              "<p>1 rows × 24 columns</p>\n",
              "</div>\n",
              "      <button class=\"colab-df-convert\" onclick=\"convertToInteractive('df-442e9451-0103-4fe2-98d6-930ca2b5d000')\"\n",
              "              title=\"Convert this dataframe to an interactive table.\"\n",
              "              style=\"display:none;\">\n",
              "        \n",
              "  <svg xmlns=\"http://www.w3.org/2000/svg\" height=\"24px\"viewBox=\"0 0 24 24\"\n",
              "       width=\"24px\">\n",
              "    <path d=\"M0 0h24v24H0V0z\" fill=\"none\"/>\n",
              "    <path d=\"M18.56 5.44l.94 2.06.94-2.06 2.06-.94-2.06-.94-.94-2.06-.94 2.06-2.06.94zm-11 1L8.5 8.5l.94-2.06 2.06-.94-2.06-.94L8.5 2.5l-.94 2.06-2.06.94zm10 10l.94 2.06.94-2.06 2.06-.94-2.06-.94-.94-2.06-.94 2.06-2.06.94z\"/><path d=\"M17.41 7.96l-1.37-1.37c-.4-.4-.92-.59-1.43-.59-.52 0-1.04.2-1.43.59L10.3 9.45l-7.72 7.72c-.78.78-.78 2.05 0 2.83L4 21.41c.39.39.9.59 1.41.59.51 0 1.02-.2 1.41-.59l7.78-7.78 2.81-2.81c.8-.78.8-2.07 0-2.86zM5.41 20L4 18.59l7.72-7.72 1.47 1.35L5.41 20z\"/>\n",
              "  </svg>\n",
              "      </button>\n",
              "      \n",
              "  <style>\n",
              "    .colab-df-container {\n",
              "      display:flex;\n",
              "      flex-wrap:wrap;\n",
              "      gap: 12px;\n",
              "    }\n",
              "\n",
              "    .colab-df-convert {\n",
              "      background-color: #E8F0FE;\n",
              "      border: none;\n",
              "      border-radius: 50%;\n",
              "      cursor: pointer;\n",
              "      display: none;\n",
              "      fill: #1967D2;\n",
              "      height: 32px;\n",
              "      padding: 0 0 0 0;\n",
              "      width: 32px;\n",
              "    }\n",
              "\n",
              "    .colab-df-convert:hover {\n",
              "      background-color: #E2EBFA;\n",
              "      box-shadow: 0px 1px 2px rgba(60, 64, 67, 0.3), 0px 1px 3px 1px rgba(60, 64, 67, 0.15);\n",
              "      fill: #174EA6;\n",
              "    }\n",
              "\n",
              "    [theme=dark] .colab-df-convert {\n",
              "      background-color: #3B4455;\n",
              "      fill: #D2E3FC;\n",
              "    }\n",
              "\n",
              "    [theme=dark] .colab-df-convert:hover {\n",
              "      background-color: #434B5C;\n",
              "      box-shadow: 0px 1px 3px 1px rgba(0, 0, 0, 0.15);\n",
              "      filter: drop-shadow(0px 1px 2px rgba(0, 0, 0, 0.3));\n",
              "      fill: #FFFFFF;\n",
              "    }\n",
              "  </style>\n",
              "\n",
              "      <script>\n",
              "        const buttonEl =\n",
              "          document.querySelector('#df-442e9451-0103-4fe2-98d6-930ca2b5d000 button.colab-df-convert');\n",
              "        buttonEl.style.display =\n",
              "          google.colab.kernel.accessAllowed ? 'block' : 'none';\n",
              "\n",
              "        async function convertToInteractive(key) {\n",
              "          const element = document.querySelector('#df-442e9451-0103-4fe2-98d6-930ca2b5d000');\n",
              "          const dataTable =\n",
              "            await google.colab.kernel.invokeFunction('convertToInteractive',\n",
              "                                                     [key], {});\n",
              "          if (!dataTable) return;\n",
              "\n",
              "          const docLinkHtml = 'Like what you see? Visit the ' +\n",
              "            '<a target=\"_blank\" href=https://colab.research.google.com/notebooks/data_table.ipynb>data table notebook</a>'\n",
              "            + ' to learn more about interactive tables.';\n",
              "          element.innerHTML = '';\n",
              "          dataTable['output_type'] = 'display_data';\n",
              "          await google.colab.output.renderOutput(dataTable, element);\n",
              "          const docLink = document.createElement('div');\n",
              "          docLink.innerHTML = docLinkHtml;\n",
              "          element.appendChild(docLink);\n",
              "        }\n",
              "      </script>\n",
              "    </div>\n",
              "  </div>\n",
              "  "
            ]
          },
          "metadata": {},
          "execution_count": 91
        }
      ]
    },
    {
      "cell_type": "code",
      "source": [
        "# create different datasets of both the hotel types\n",
        "resorthotel_df = df [df.hotel == \"Resort Hotel\"]\n",
        "cityhotel_df= df [df.hotel == \"City Hotel\"]"
      ],
      "metadata": {
        "id": "r7cJfBO9jAqo"
      },
      "execution_count": null,
      "outputs": []
    },
    {
      "cell_type": "markdown",
      "source": [
        "##Hotel wise yearly bookings"
      ],
      "metadata": {
        "id": "nwAZbjb_jn4w"
      }
    },
    {
      "cell_type": "code",
      "source": [
        "# plot hotel wise yearly bookings\n",
        "plt.figure(figsize=(15,6))\n",
        "sns.countplot (x= 'arrival_date_year', data= df, hue= 'hotel').set_title ('Yearly Bookings')"
      ],
      "metadata": {
        "id": "E3LEp0XM9RQU",
        "colab": {
          "base_uri": "https://localhost:8080/",
          "height": 422
        },
        "outputId": "34de914d-a50d-439a-d10c-66fe770bd697"
      },
      "execution_count": null,
      "outputs": [
        {
          "output_type": "execute_result",
          "data": {
            "text/plain": [
              "Text(0.5, 1.0, 'Yearly Bookings')"
            ]
          },
          "metadata": {},
          "execution_count": 39
        },
        {
          "output_type": "display_data",
          "data": {
            "text/plain": [
              "<Figure size 1080x432 with 1 Axes>"
            ],
            "image/png": "[encoded data removed]"
          },
          "metadata": {
            "needs_background": "light"
          }
        }
      ]
    },
    {
      "cell_type": "markdown",
      "source": [
        "Bookings across the years 2016 and 2017 is higher for City Hotel compared to Resort Hotel and do not increase proportionately over the years."
      ],
      "metadata": {
        "id": "eEMitB1_kMYA"
      }
    },
    {
      "cell_type": "markdown",
      "source": [
        "##Top 12 countries from where the most guests are coming "
      ],
      "metadata": {
        "id": "OzAabn2LkdsM"
      }
    },
    {
      "cell_type": "code",
      "source": [
        "# plot top countries from where guests are coming\n",
        "plt.figure(figsize = (20,6))\n",
        "sns.barplot (y= list(df.country.value_counts().head(12)), x= list(df.country.value_counts().head(12).index))"
      ],
      "metadata": {
        "colab": {
          "base_uri": "https://localhost:8080/",
          "height": 391
        },
        "id": "JvNQ2MaokTZI",
        "outputId": "00edacfe-3c72-45c6-dd4f-580b44609093"
      },
      "execution_count": null,
      "outputs": [
        {
          "output_type": "execute_result",
          "data": {
            "text/plain": [
              "<matplotlib.axes._subplots.AxesSubplot at 0x7f4ae4bc01d0>"
            ]
          },
          "metadata": {},
          "execution_count": 94
        },
        {
          "output_type": "display_data",
          "data": {
            "text/plain": [
              "<Figure size 1440x432 with 1 Axes>"
            ],
            "image/png": "[encoded data removed]"
          },
          "metadata": {}
        }
      ]
    },
    {
      "cell_type": "code",
      "source": [
        "# plotting graph again with values \n",
        "plt.figure(figsize = (20,6))\n",
        "ax= df.country.value_counts().head(12).plot (kind= 'bar');\n",
        "for p in ax.patches:\n",
        "    ax.annotate(str(p.get_height()), (p.get_x() * 1.01, p.get_height() * 1.01))"
      ],
      "metadata": {
        "colab": {
          "base_uri": "https://localhost:8080/",
          "height": 386
        },
        "id": "r0myarKnlApq",
        "outputId": "498172c3-d7e0-4531-8029-acdef1c7d6e7"
      },
      "execution_count": null,
      "outputs": [
        {
          "output_type": "display_data",
          "data": {
            "text/plain": [
              "<Figure size 1440x432 with 1 Axes>"
            ],
            "image/png": "[encoded data removed]"
          },
          "metadata": {}
        }
      ]
    },
    {
      "cell_type": "markdown",
      "source": [
        "##Proportion of booking cancellations"
      ],
      "metadata": {
        "id": "dLqv-NGylprY"
      }
    },
    {
      "cell_type": "code",
      "source": [
        "# plot proportion of booking cancellations\n",
        "plt.figure(figsize=(15,6))\n",
        "a = bookings_df.groupby(\"hotel\")['is_canceled'].describe()\n",
        "sns.barplot(x=a.index, y=a[\"mean\"] * 100)"
      ],
      "metadata": {
        "colab": {
          "base_uri": "https://localhost:8080/",
          "height": 405
        },
        "id": "xNfJVFt6lPy0",
        "outputId": "e14c20a7-29b8-4452-9800-86c1dd31f921"
      },
      "execution_count": null,
      "outputs": [
        {
          "output_type": "execute_result",
          "data": {
            "text/plain": [
              "<matplotlib.axes._subplots.AxesSubplot at 0x7f4ae8247490>"
            ]
          },
          "metadata": {},
          "execution_count": 44
        },
        {
          "output_type": "display_data",
          "data": {
            "text/plain": [
              "<Figure size 1080x432 with 1 Axes>"
            ],
            "image/png": "[encoded data removed]"
          },
          "metadata": {
            "needs_background": "light"
          }
        }
      ]
    },
    {
      "cell_type": "markdown",
      "source": [
        "Around 30%  of bookings were cancelled in City Hotels and 25% in Resort Hotels."
      ],
      "metadata": {
        "id": "0PlwE1WalpVe"
      }
    },
    {
      "cell_type": "markdown",
      "source": [
        "##Relationship between previous cancellations and cancellation"
      ],
      "metadata": {
        "id": "L9SnmvTDxNmW"
      }
    },
    {
      "cell_type": "code",
      "source": [
        "# previous cancellations vs cancellattions\n",
        "plt.figure(figsize=(15,6))\n",
        "plt.title ('previous_cancellations vs cancellations')\n",
        "sns.barplot(x= 'previous_cancellations' ,y = \"is_canceled\", data = bookings_df)"
      ],
      "metadata": {
        "colab": {
          "base_uri": "https://localhost:8080/",
          "height": 422
        },
        "id": "XN8r3GAHxMtF",
        "outputId": "2b4f5e1d-aaa9-422d-be48-6e3bde41c787"
      },
      "execution_count": null,
      "outputs": [
        {
          "output_type": "execute_result",
          "data": {
            "text/plain": [
              "<matplotlib.axes._subplots.AxesSubplot at 0x7f4ae4294890>"
            ]
          },
          "metadata": {},
          "execution_count": 100
        },
        {
          "output_type": "display_data",
          "data": {
            "text/plain": [
              "<Figure size 1080x432 with 1 Axes>"
            ],
            "image/png": "[encoded data removed]"
          },
          "metadata": {}
        }
      ]
    },
    {
      "cell_type": "markdown",
      "source": [
        "##Visualizing monthly bookings and monthly cancellations"
      ],
      "metadata": {
        "id": "EamsnSs_l5UK"
      }
    },
    {
      "cell_type": "code",
      "source": [
        "# monthly bookings\n",
        "plt.figure(figsize = (20,6))\n",
        "df_copy= df.copy()\n",
        "df_copy['no_of_bookings']= 1\n",
        "plt.title(\"Monthly Bookings\")\n",
        "sns.barplot(x= 'arrival_date_month', y= 'no_of_bookings', hue= df_copy['hotel'], estimator= sum, data= df_copy)\n",
        "plt.show()"
      ],
      "metadata": {
        "colab": {
          "base_uri": "https://localhost:8080/",
          "height": 405
        },
        "id": "i15ZPyeXl68m",
        "outputId": "891612c4-a522-44ca-de56-88d2e2e975d4"
      },
      "execution_count": null,
      "outputs": [
        {
          "output_type": "display_data",
          "data": {
            "text/plain": [
              "<Figure size 1440x432 with 1 Axes>"
            ],
            "image/png": "[encoded data removed]"
          },
          "metadata": {
            "needs_background": "light"
          }
        }
      ]
    },
    {
      "cell_type": "code",
      "source": [
        "# monthly cancellations\n",
        "plt.figure(figsize = (20,6))\n",
        "df_copy1= df.copy()\n",
        "df_copy1['is_canceled']= 1\n",
        "plt.title(\"Monthly Cancellations\")\n",
        "sns.barplot(x= 'arrival_date_month', y= 'is_canceled', hue= df_copy1['hotel'], estimator= sum, data= df_copy1)\n",
        "plt.show()"
      ],
      "metadata": {
        "colab": {
          "base_uri": "https://localhost:8080/",
          "height": 405
        },
        "id": "e_sbiZPRmk0H",
        "outputId": "293d2f95-0be9-466c-f32e-64f5c735a464"
      },
      "execution_count": null,
      "outputs": [
        {
          "output_type": "display_data",
          "data": {
            "text/plain": [
              "<Figure size 1440x432 with 1 Axes>"
            ],
            "image/png": "[encoded data removed]"
          },
          "metadata": {
            "needs_background": "light"
          }
        }
      ]
    },
    {
      "cell_type": "markdown",
      "source": [
        "In case of city hotel, months with high bookings (May, June, September, October) also witnessed more cancellations. Guest numbers for the Resort hotel go down slighty from June to September though variations in bookings and cancellations are less in case of resort hotel. Both hotels have the fewest guests during the winter."
      ],
      "metadata": {
        "id": "h2kMxgwiodML"
      }
    },
    {
      "cell_type": "markdown",
      "source": [
        "##Market segment wise bookings"
      ],
      "metadata": {
        "id": "pAmY5Fkkom-M"
      }
    },
    {
      "cell_type": "code",
      "source": [
        "# plot markest segment wise bookings\n",
        "plt.figure(figsize=(15,6))\n",
        "plt.title(\"Segments wise booking\")\n",
        "ax = sns.countplot(x = \"market_segment\", data = df)\n",
        "plt.show()"
      ],
      "metadata": {
        "colab": {
          "base_uri": "https://localhost:8080/",
          "height": 405
        },
        "id": "wclF2gxZoea3",
        "outputId": "492fc96b-555d-4b01-923b-a7850c0cee31"
      },
      "execution_count": null,
      "outputs": [
        {
          "output_type": "display_data",
          "data": {
            "text/plain": [
              "<Figure size 1080x432 with 1 Axes>"
            ],
            "image/png": "[encoded data removed]"
          },
          "metadata": {
            "needs_background": "light"
          }
        }
      ]
    },
    {
      "cell_type": "markdown",
      "source": [
        "Indirect bookings through online and offline travel agents are higher compared to direct bookings and same is the case with group bookings which are also high."
      ],
      "metadata": {
        "id": "cZ3MvjfEpCVx"
      }
    },
    {
      "cell_type": "markdown",
      "source": [
        "##Types of Customers"
      ],
      "metadata": {
        "id": "G2hchVF16sMy"
      }
    },
    {
      "cell_type": "code",
      "source": [
        "# Plotting the piechart for types of customers\n",
        "types_of_customer = bookings_df['customer_type'].value_counts().to_list()\n",
        "labels=['Transient','Transient-Party','Group', 'Contract']\n",
        "colors = ['#ff9999','#66b3ff','#99ff99','#999999']\n",
        "explode = (0.01, 0.01, 0.01, 0.01)\n",
        "plt.figure(figsize=(10,8))\n",
        "plt.pie(x=types_of_customer,labels=labels, colors=colors, explode=explode, autopct=\"%.2f%%\",radius=1.1)\n",
        "plt.title(\"Proportion Of Customers\", fontsize=20)\n",
        "plt.legend(bbox_to_anchor=(1.05, 1), loc='upper left', borderaxespad=0)\n",
        "plt.show()"
      ],
      "metadata": {
        "colab": {
          "base_uri": "https://localhost:8080/",
          "height": 487
        },
        "id": "WrzDiZQh6l8F",
        "outputId": "a6a59670-4a66-4c48-a474-5f44fb26a1aa"
      },
      "execution_count": null,
      "outputs": [
        {
          "output_type": "display_data",
          "data": {
            "text/plain": [
              "<Figure size 720x576 with 1 Axes>"
            ],
            "image/png": "[encoded data removed]"
          },
          "metadata": {}
        }
      ]
    },
    {
      "cell_type": "markdown",
      "source": [
        "##Monthly cancellations and customer type"
      ],
      "metadata": {
        "id": "acSEjbTIpDqY"
      }
    },
    {
      "cell_type": "code",
      "source": [
        "# monthly cancellation vs customer type\n",
        "plt.figure(figsize=(15,6))\n",
        "a = bookings_df.groupby(\"customer_type\")['is_canceled'].describe()\n",
        "sns.barplot(x=a.index, y=a[\"mean\"] * 100)"
      ],
      "metadata": {
        "colab": {
          "base_uri": "https://localhost:8080/",
          "height": 405
        },
        "id": "7EFQ_mAipDEI",
        "outputId": "54771e6c-46f9-4b68-bf21-35b926bfd484"
      },
      "execution_count": null,
      "outputs": [
        {
          "output_type": "execute_result",
          "data": {
            "text/plain": [
              "<matplotlib.axes._subplots.AxesSubplot at 0x7f4aeab51e10>"
            ]
          },
          "metadata": {},
          "execution_count": 59
        },
        {
          "output_type": "display_data",
          "data": {
            "text/plain": [
              "<Figure size 1080x432 with 1 Axes>"
            ],
            "image/png": "[encoded data removed]"
          },
          "metadata": {
            "needs_background": "light"
          }
        }
      ]
    },
    {
      "cell_type": "markdown",
      "source": [
        "Transient customer types have higher cancellations."
      ],
      "metadata": {
        "id": "4TFMUINyr20H"
      }
    },
    {
      "cell_type": "markdown",
      "source": [
        "##Relationship between lead time and cancellation"
      ],
      "metadata": {
        "id": "6QN2T-WKr7UG"
      }
    },
    {
      "cell_type": "code",
      "source": [
        "# lead time vs cancellation\n",
        "plt.figure(figsize=(15,6))\n",
        "a = bookings_df.groupby(\"lead_time\")['is_canceled'].describe()\n",
        "sns.scatterplot(x=a.index, y=a[\"mean\"] * 100)"
      ],
      "metadata": {
        "colab": {
          "base_uri": "https://localhost:8080/",
          "height": 406
        },
        "id": "m1bXXeqMr6rg",
        "outputId": "61f0cf33-690f-4933-e05f-b3420a83651a"
      },
      "execution_count": null,
      "outputs": [
        {
          "output_type": "execute_result",
          "data": {
            "text/plain": [
              "<matplotlib.axes._subplots.AxesSubplot at 0x7f4ae7933190>"
            ]
          },
          "metadata": {},
          "execution_count": 60
        },
        {
          "output_type": "display_data",
          "data": {
            "text/plain": [
              "<Figure size 1080x432 with 1 Axes>"
            ],
            "image/png": "[encoded data removed]"
          },
          "metadata": {
            "needs_background": "light"
          }
        }
      ]
    },
    {
      "cell_type": "markdown",
      "source": [
        "Lead time has a positive correlation with cancellation."
      ],
      "metadata": {
        "id": "5NLLllczsJ-x"
      }
    },
    {
      "cell_type": "markdown",
      "source": [
        "##Relationship between deposit type and cancellation"
      ],
      "metadata": {
        "id": "sf1opRfdsKqz"
      }
    },
    {
      "cell_type": "code",
      "source": [
        "# deposit type vs cancellation\n",
        "plt.figure(figsize=(15,6))\n",
        "plt.title(\"Booking Canceled or not by Deposit type\")\n",
        "sns.countplot(x='deposit_type',data=bookings_df ,hue='is_canceled')"
      ],
      "metadata": {
        "colab": {
          "base_uri": "https://localhost:8080/",
          "height": 422
        },
        "id": "fd9JooETsmAr",
        "outputId": "e1a2d4da-b54c-41aa-e076-194f6002ffad"
      },
      "execution_count": null,
      "outputs": [
        {
          "output_type": "execute_result",
          "data": {
            "text/plain": [
              "<matplotlib.axes._subplots.AxesSubplot at 0x7f4ae4da0510>"
            ]
          },
          "metadata": {},
          "execution_count": 61
        },
        {
          "output_type": "display_data",
          "data": {
            "text/plain": [
              "<Figure size 1080x432 with 1 Axes>"
            ],
            "image/png": "[encoded data removed]"
          },
          "metadata": {
            "needs_background": "light"
          }
        }
      ]
    },
    {
      "cell_type": "markdown",
      "source": [
        "Most of the bookings were cancelled by guests with no deposit. These numbers are huge if the hotels were not able to replace the cancelled bookings in time. So it's obvious that guests who do not pay any deposit while booking are likely to cancel more reservations. Also it is interesting to note that non-refundable deposits had more cancellation than refundable deposits. Logically one would have assumed that refundable deposits have more cancellation as hotel rates are usually higher for refundable deposit type rooms and customers pay more in anticipation of cancellation."
      ],
      "metadata": {
        "id": "PyOC0Cvnsu-L"
      }
    },
    {
      "cell_type": "markdown",
      "source": [
        "##Booking Fare"
      ],
      "metadata": {
        "id": "mdwJVQrKsyf2"
      }
    },
    {
      "cell_type": "code",
      "source": [
        "# plotting variation in room type with Price\n",
        "plt.figure(figsize=(15,6))\n",
        "sns.barplot(data = df, x = 'reserved_room_type', y = 'adr', hue = 'hotel')"
      ],
      "metadata": {
        "colab": {
          "base_uri": "https://localhost:8080/",
          "height": 406
        },
        "id": "aCGYsBNltncz",
        "outputId": "a0fe0aec-4e51-4940-8c19-01aeeb5138ac"
      },
      "execution_count": null,
      "outputs": [
        {
          "output_type": "execute_result",
          "data": {
            "text/plain": [
              "<matplotlib.axes._subplots.AxesSubplot at 0x7f4ae7049950>"
            ]
          },
          "metadata": {},
          "execution_count": 62
        },
        {
          "output_type": "display_data",
          "data": {
            "text/plain": [
              "<Figure size 1080x432 with 1 Axes>"
            ],
            "image/png": "[encoded data removed]"
          },
          "metadata": {
            "needs_background": "light"
          }
        }
      ]
    },
    {
      "cell_type": "code",
      "source": [
        "# plotting variation in meal type with Price\n",
        "plt.figure(figsize=(15,6))\n",
        "sns.barplot(data = df, x = 'meal', y = 'adr', hue = 'hotel')"
      ],
      "metadata": {
        "colab": {
          "base_uri": "https://localhost:8080/",
          "height": 405
        },
        "id": "H3uKlRn2tyEJ",
        "outputId": "b9bb0228-dbed-4dfd-fced-3aaf498ad1d8"
      },
      "execution_count": null,
      "outputs": [
        {
          "output_type": "execute_result",
          "data": {
            "text/plain": [
              "<matplotlib.axes._subplots.AxesSubplot at 0x7f4ae6ed34d0>"
            ]
          },
          "metadata": {},
          "execution_count": 63
        },
        {
          "output_type": "display_data",
          "data": {
            "text/plain": [
              "<Figure size 1080x432 with 1 Axes>"
            ],
            "image/png": "[encoded data removed]"
          },
          "metadata": {
            "needs_background": "light"
          }
        }
      ]
    },
    {
      "cell_type": "code",
      "source": [
        "# price vs market segment based on reserved room types\n",
        "plt.figure(figsize = (25,7))\n",
        "plt.title(\"Price vs Market Segment\")\n",
        "sns.barplot(x= 'market_segment', y= 'adr', hue= 'reserved_room_type', data= df)\n",
        "plt.show()"
      ],
      "metadata": {
        "colab": {
          "base_uri": "https://localhost:8080/",
          "height": 448
        },
        "id": "0PrQC3JUt5Pd",
        "outputId": "a169a28a-6414-4420-823c-d45d0318939b"
      },
      "execution_count": null,
      "outputs": [
        {
          "output_type": "display_data",
          "data": {
            "text/plain": [
              "<Figure size 1800x504 with 1 Axes>"
            ],
            "image/png": "[encoded data removed]"
          },
          "metadata": {
            "needs_background": "light"
          }
        }
      ]
    },
    {
      "cell_type": "markdown",
      "source": [
        "##**Conclusion**\n",
        "After exploring, cleaning and handelling null values from the given dataset, now coming to the analysis part -\n",
        "\n",
        "There are two different types of hotels namely - 'Resort Hotel' and 'City Hotel'.\n",
        "\n",
        "Bookings across the years 2016 and 2017 are higher for City Hotels compared to Resort Hotels and do not increase proportionately over the years.\n",
        "\n",
        "Top 10 countries from where guests are coming are - PRT, GBR, FRA, ESP, DEU, IRL, ITA, BEL, NLD and USA. Most number of guests i.e. 17573 are coming from PRT.\n",
        "\n",
        "Focusing on bookings cancellation, around 30% of bookings were cancelled in City Hotels and 25% in Resort Hotels.\n",
        "\n",
        "The City hotel has more guests during spring and autumn, when the prices are also highest, In July and August there are less visitors, although prices are lower. Thus, customers can get good deal on bookings in July and August in city hotel.\n",
        "\n",
        "Guest numbers for the Resort hotel go down slighty from June to September, which is also when the prices are highest. Thus, these months should be avoided for bookings.\n",
        "\n",
        "Broadly, Arpil to August is the peak season of bookings. Both hotels have the fewest guests during the winter.\n",
        "\n",
        "There are four different types of customers namely - Transient, Transient-Party, Group and Contract. Transient customer types have higher cancellations.\n",
        "\n",
        "Higher lead time has higher chance of cancellation. Also, history of previous cancellations increases chances of cancellation.\n",
        "\n",
        "No deposit cancellations are high compared to other categories but these should not be discouraged per se as bookings in this category are also very high compared to non refundable type bookings.\n",
        "\n",
        "Cancellations are high when done through agents compared to direct bookings. Hotels need to do marketing and give special incentives for direct bookings as these may establish personal one to one relationships promoting customer loyalty."
      ],
      "metadata": {
        "id": "0b9BRh3vuniY"
      }
    },
    {
      "cell_type": "code",
      "source": [
        ""
      ],
      "metadata": {
        "id": "gYoBPo2zur6C"
      },
      "execution_count": null,
      "outputs": []
    }
  ]
}